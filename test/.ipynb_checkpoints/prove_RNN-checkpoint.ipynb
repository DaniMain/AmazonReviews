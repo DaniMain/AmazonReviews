{
 "cells": [
  {
   "cell_type": "code",
   "execution_count": 9,
   "metadata": {
    "colab": {
     "base_uri": "https://localhost:8080/",
     "height": 122
    },
    "colab_type": "code",
    "id": "Mg8BXGWCa1Z-",
    "outputId": "208d9d69-c5c7-4138-ee37-6458b32362df"
   },
   "outputs": [],
   "source": [
    "path = '../data/'\n",
    "file = 'reviews_Video_Games_5.csv'\n",
    "file_dataframe = 'reviews_Video_Games_5-data_frame.csv'\n",
    "file_dataframe_over10 = 'reviews_Video_Games_5-over10-data_frame.csv'"
   ]
  },
  {
   "cell_type": "markdown",
   "metadata": {
    "colab_type": "text",
    "id": "54gvO6cjp4qT"
   },
   "source": [
    "# Testing RNN"
   ]
  },
  {
   "cell_type": "code",
   "execution_count": 2,
   "metadata": {
    "colab": {
     "base_uri": "https://localhost:8080/",
     "height": 34
    },
    "colab_type": "code",
    "id": "PQ6DY3a5osJH",
    "outputId": "f811221c-a166-4762-eabb-71d8c0c62c59"
   },
   "outputs": [
    {
     "name": "stderr",
     "output_type": "stream",
     "text": [
      "Using TensorFlow backend.\n"
     ]
    }
   ],
   "source": [
    "import numpy as np\n",
    "import pandas as pd\n",
    "import keras\n",
    "from keras.models import Sequential\n",
    "from keras.layers import Dense, Dropout\n",
    "from keras.utils import np_utils\n",
    "from sklearn.preprocessing import LabelEncoder\n",
    "from sklearn.model_selection import train_test_split\n",
    "import tensorflow as tf\n",
    "import time"
   ]
  },
  {
   "cell_type": "markdown",
   "metadata": {
    "colab_type": "text",
    "id": "H1sv4pqbtkCK"
   },
   "source": [
    "This is the first model used in the project"
   ]
  },
  {
   "cell_type": "code",
   "execution_count": 0,
   "metadata": {
    "colab": {
     "base_uri": "https://localhost:8080/",
     "height": 255
    },
    "colab_type": "code",
    "id": "DJHtFypJ_Nac",
    "outputId": "43c83535-7aaf-4a54-f44d-fa8688ea437a"
   },
   "outputs": [
    {
     "name": "stdout",
     "output_type": "stream",
     "text": [
      "Model: \"sequential_23\"\n",
      "_________________________________________________________________\n",
      "Layer (type)                 Output Shape              Param #   \n",
      "=================================================================\n",
      "dense_17 (Dense)             (None, 8)                 808       \n",
      "_________________________________________________________________\n",
      "dropout_33 (Dropout)         (None, 8)                 0         \n",
      "_________________________________________________________________\n",
      "dense_18 (Dense)             (None, 2)                 18        \n",
      "=================================================================\n",
      "Total params: 826\n",
      "Trainable params: 826\n",
      "Non-trainable params: 0\n",
      "_________________________________________________________________\n"
     ]
    }
   ],
   "source": [
    "#rnn used in ml project\n",
    "model = Sequential()\n",
    "model.add(Dense(8, input_dim=100, activation='relu'))\n",
    "model.add(Dropout(0.5))\n",
    "model.add(Dense(2, activation='softmax'))\n",
    "model.summary()\n",
    "model.compile(loss='categorical_crossentropy', optimizer='adam', metrics=['accuracy'])"
   ]
  },
  {
   "cell_type": "markdown",
   "metadata": {
    "colab_type": "text",
    "id": "TAKP2WBetq5R"
   },
   "source": [
    "This is a test model made by me"
   ]
  },
  {
   "cell_type": "code",
   "execution_count": 4,
   "metadata": {
    "colab": {
     "base_uri": "https://localhost:8080/",
     "height": 530
    },
    "colab_type": "code",
    "id": "c-h5ZnFlo577",
    "outputId": "1d283e69-6935-4ccf-d854-1566f1ec5ad7"
   },
   "outputs": [
    {
     "name": "stdout",
     "output_type": "stream",
     "text": [
      "_________________________________________________________________\n",
      "Layer (type)                 Output Shape              Param #   \n",
      "=================================================================\n",
      "hidden1 (Dense)              (None, 128)               12928     \n",
      "_________________________________________________________________\n",
      "dropout_3 (Dropout)          (None, 128)               0         \n",
      "_________________________________________________________________\n",
      "hidden2 (Dense)              (None, 128)               16512     \n",
      "_________________________________________________________________\n",
      "dropout_4 (Dropout)          (None, 128)               0         \n",
      "_________________________________________________________________\n",
      "output (Dense)               (None, 2)                 258       \n",
      "=================================================================\n",
      "Total params: 29,698\n",
      "Trainable params: 29,698\n",
      "Non-trainable params: 0\n",
      "_________________________________________________________________\n"
     ]
    }
   ],
   "source": [
    "model = Sequential() # istanza di Sequential \n",
    "model.add(Dense(128, input_dim=100, activation='relu',name=\"hidden1\")) #strato di input + hidden\n",
    "model.add(Dropout(0.5))\n",
    "model.add(Dense(128, activation='sigmoid',name=\"hidden2\"))\n",
    "model.add(Dropout(0.5))\n",
    "model.add(Dense(2, activation='softmax',name=\"output\")) #strato di output\n",
    "model.summary()"
   ]
  },
  {
   "cell_type": "markdown",
   "metadata": {
    "colab_type": "text",
    "id": "q9DSlvaXtwZr"
   },
   "source": [
    "Optimizer used in SGD example in ML course"
   ]
  },
  {
   "cell_type": "code",
   "execution_count": 0,
   "metadata": {
    "colab": {},
    "colab_type": "code",
    "id": "0nroJLMr3ugE"
   },
   "outputs": [],
   "source": [
    "optimizer = keras.optimizers.SGD(lr=0.01, decay=0.1, momentum=0.975, nesterov=False)\n",
    "\n",
    "# model.compile(loss='mean_squared_error', optimizer=optimizer, metrics=['accuracy'])\n",
    "model.compile(loss='binary_crossentropy', optimizer=optimizer, metrics=['accuracy'])"
   ]
  },
  {
   "cell_type": "markdown",
   "metadata": {
    "colab_type": "text",
    "id": "eac5MPKOt3cJ"
   },
   "source": [
    "Standard compile"
   ]
  },
  {
   "cell_type": "code",
   "execution_count": 5,
   "metadata": {
    "colab": {},
    "colab_type": "code",
    "id": "TLCaVWhRo9xE"
   },
   "outputs": [],
   "source": [
    "model.compile(loss='binary_crossentropy', optimizer='rmsprop', metrics=['accuracy'])"
   ]
  },
  {
   "cell_type": "markdown",
   "metadata": {
    "colab_type": "text",
    "id": "RwvAPHLOt9ro"
   },
   "source": [
    "Random creation, do not use"
   ]
  },
  {
   "cell_type": "code",
   "execution_count": 0,
   "metadata": {
    "colab": {},
    "colab_type": "code",
    "id": "3MNtakPMpZT7"
   },
   "outputs": [],
   "source": [
    "#dati input di apprendimento composto da mille vettori di 20 float random\n",
    "x_train = np.random.random((1000, 20))  #dati di out di apprendimento (train) composto da mille scalari random da 0 a 1 \n",
    "y_train = np.random.randint(2, size=(1000, 1))   #dati input di validazione composto da 100 vettori di 20 float random \n",
    "x_test = np.random.random((100, 20))    #dati di out di validazione (test) composto da mille scalari random da 0 a 1 \n",
    "y_test = np.random.randint(2, size=(100, 1))"
   ]
  },
  {
   "cell_type": "markdown",
   "metadata": {
    "colab_type": "text",
    "id": "4CxPGSANuARK"
   },
   "source": [
    "Standard split"
   ]
  },
  {
   "cell_type": "code",
   "execution_count": 0,
   "metadata": {
    "colab": {},
    "colab_type": "code",
    "id": "TLwV8gQctWmy"
   },
   "outputs": [],
   "source": [
    "bankdata = pd.read_csv(path+file_dataframe)\n",
    "\n",
    "# x = bankdata.drop('utility', axis=1).drop('text', axis=1)\n",
    "# y = bankdata['utility']\n",
    "\n",
    "dataset = bankdata.values\n",
    "X = dataset[:,2:].astype(float)\n",
    "Y = dataset[:,1]\n",
    "\n",
    "# x_train, x_test, y_train, y_test = train_test_split(x, y, test_size = 0.20)\n",
    "\n",
    "x_train, x_test, y_train, y_test = train_test_split(X, Y, test_size = 0.2)"
   ]
  },
  {
   "cell_type": "markdown",
   "metadata": {
    "colab_type": "text",
    "id": "1S20VZOKuJIZ"
   },
   "source": [
    "Testing split"
   ]
  },
  {
   "cell_type": "code",
   "execution_count": 0,
   "metadata": {
    "colab": {},
    "colab_type": "code",
    "id": "6xlGbj_9aapR"
   },
   "outputs": [],
   "source": [
    "bankdata = pd.read_csv(path+file_dataframe)\n",
    "\n",
    "bankdata = bankdata.drop('text',axis=1)\n",
    "np_bankdata = np.asarray(bankdata,dtype=np.float32)\n",
    "\n",
    "for i in range(2,101):\n",
    "    minx = np.min( np_bankdata[:,i] )\n",
    "    maxx = np.max( np_bankdata[:,i])\n",
    "    np_bankdata[:,i] = (np_bankdata[:,i]-minx)/(maxx-minx)\n",
    "\n",
    "train, test = train_test_split(np_bankdata)\n",
    "\n",
    "x_train = train[0:,1:]\n",
    "y_train = train[0:,:1]\n",
    "\n",
    "x_test = test[0:,1:]\n",
    "y_test = test[0:,:1]"
   ]
  },
  {
   "cell_type": "markdown",
   "metadata": {
    "colab_type": "text",
    "id": "YTjP0RTMuK84"
   },
   "source": [
    "Real split with label encoding"
   ]
  },
  {
   "cell_type": "code",
   "execution_count": 14,
   "metadata": {
    "colab": {
     "base_uri": "https://localhost:8080/",
     "height": 105
    },
    "colab_type": "code",
    "id": "Aphrb-XVj-oo",
    "outputId": "3169b246-dbe6-48d5-ab8b-184a0077db5a"
   },
   "outputs": [
    {
     "name": "stderr",
     "output_type": "stream",
     "text": [
      "C:\\Users\\User\\Anaconda3\\lib\\site-packages\\sklearn\\preprocessing\\label.py:219: DataConversionWarning: A column-vector y was passed when a 1d array was expected. Please change the shape of y to (n_samples, ), for example using ravel().\n",
      "  y = column_or_1d(y, warn=True)\n"
     ]
    }
   ],
   "source": [
    "# load dataset\n",
    "dataframe = pd.read_csv(path+file_dataframe)#, header=None)\n",
    "\n",
    "dataset = dataframe.drop('text',axis=1)\n",
    "np_dataset = np.asarray(dataset,dtype=np.float32)\n",
    "\n",
    "train, test = train_test_split(np_dataset, test_size = 0.20)\n",
    "\n",
    "# x_train = train[:,2:].astype(float)\n",
    "# y_train = train[:,1]\n",
    "\n",
    "# x_test = test[:,2:].astype(float)\n",
    "# y_test = test[:,1]\n",
    "\n",
    "x_train = train[0:,1:].astype(float)\n",
    "y_train = train[0:,:1]\n",
    "\n",
    "x_test = test[0:,1:].astype(float)\n",
    "Y_test = test[0:,:1]\n",
    "\n",
    "# encode class values as integers\n",
    "encoder = LabelEncoder()\n",
    "encoder.fit(y_train)\n",
    "#encoded_y_train = encoder.transform(y_train)\n",
    "# convert integers to dummy variables (i.e. one hot encoded)\n",
    "y_train = np_utils.to_categorical(y_train)\n",
    "encoder.fit(Y_test)\n",
    "#encoded_y_test = encoder.transform(Y_test)\n",
    "# convert integers to dummy variables (i.e. one hot encoded)\n",
    "y_test = np_utils.to_categorical(Y_test)"
   ]
  },
  {
   "cell_type": "markdown",
   "metadata": {
    "colab_type": "text",
    "id": "wb6Jh5IQuTbi"
   },
   "source": [
    "Fitting, evaluation and metrics visualization"
   ]
  },
  {
   "cell_type": "code",
   "execution_count": 15,
   "metadata": {
    "colab": {
     "base_uri": "https://localhost:8080/",
     "height": 1000
    },
    "colab_type": "code",
    "id": "bOqRKXBmpnbg",
    "outputId": "57be5095-0efb-4ba6-e56a-d078651e1a09"
   },
   "outputs": [
    {
     "name": "stdout",
     "output_type": "stream",
     "text": [
      "Elapsed time (learning): 00:00:51\n",
      "Test loss: 0.5472659331430012\n",
      "Test accuracy: 0.7252567089481404\n"
     ]
    },
    {
     "data": {
      "image/png": "[encoded data removed]",
      "text/plain": [
       "<Figure size 432x288 with 1 Axes>"
      ]
     },
     "metadata": {
      "needs_background": "light"
     },
     "output_type": "display_data"
    },
    {
     "data": {
      "image/png": "[encoded data removed]",
      "text/plain": [
       "<Figure size 432x288 with 1 Axes>"
      ]
     },
     "metadata": {
      "needs_background": "light"
     },
     "output_type": "display_data"
    },
    {
     "name": "stdout",
     "output_type": "stream",
     "text": [
      "[[30085  2345]\n",
      " [10391  3535]]\n",
      "              precision    recall  f1-score   support\n",
      "\n",
      "     Class 0       0.74      0.93      0.83     32430\n",
      "     Class 1       0.60      0.25      0.36     13926\n",
      "\n",
      "   micro avg       0.73      0.73      0.73     46356\n",
      "   macro avg       0.67      0.59      0.59     46356\n",
      "weighted avg       0.70      0.73      0.68     46356\n",
      "\n"
     ]
    }
   ],
   "source": [
    "ep=20\n",
    "bs=512\n",
    "vb=0\n",
    "vs=0.1\n",
    "\n",
    "# === FIT THE MODEL ===\n",
    "start_time=time.time()\n",
    "\n",
    "history = model.fit(x_train, y_train, epochs=20, batch_size=bs, verbose=vb, validation_split=vs)#, validation_data=(x_test,y_test)\n",
    "\n",
    "elapsed_time = time.time() - start_time\n",
    "t = time.strftime(\"%H:%M:%S\", time.gmtime(elapsed_time))\n",
    "print('Elapsed time (learning):', t)\n",
    "\n",
    "\n",
    "# === EVALUATION ===\n",
    "score = model.evaluate(x_test, y_test, batch_size=bs, verbose=vb)\n",
    "\n",
    "print('Test loss:', score[0])\n",
    "print('Test accuracy:', score[1])\n",
    "\n",
    "\n",
    "# === PLOT THE TRAINING ===\n",
    "import matplotlib.pyplot as plt\n",
    "%matplotlib inline\n",
    "\n",
    "accuracy = history.history['acc']\n",
    "val_accuracy = history.history['val_acc']\n",
    "loss = history.history['loss']\n",
    "val_loss = history.history['val_loss']\n",
    "epochs = range(len(accuracy))\n",
    "\n",
    "plt.plot(epochs, accuracy, 'bo', label='Training accuracy')\n",
    "plt.plot(epochs, val_accuracy, 'b', label='Validation accuracy')\n",
    "plt.title('Training and validation accuracy')\n",
    "plt.legend()\n",
    "plt.figure()\n",
    "\n",
    "plt.plot(epochs, loss, 'bo', label='Training loss')\n",
    "plt.plot(epochs, val_loss, 'b', label='Validation loss')\n",
    "plt.title('Training and validation loss')\n",
    "plt.legend()\n",
    "plt.show()\n",
    "\n",
    "\n",
    "# === METRICS AND REPORT ===\n",
    "from sklearn.metrics import classification_report, confusion_matrix\n",
    "\n",
    "# get the predictions for the test data\n",
    "y_pred = model.predict_classes(x_test)\n",
    "\n",
    "# get the indices to be plotted\n",
    "# correct = np.where(y_pred==y_test)[0]\n",
    "# incorrect = np.where(y_pred!=y_test)[0]\n",
    "\n",
    "target_names = [\"Class {}\".format(i) for i in range(2)]\n",
    "\n",
    "conf_matrix = str(confusion_matrix(Y_test, y_pred))\n",
    "class_report = str(classification_report(Y_test, y_pred, target_names=target_names))\n",
    "\n",
    "print(conf_matrix)\n",
    "print(class_report)"
   ]
  },
  {
   "cell_type": "code",
   "execution_count": 0,
   "metadata": {
    "colab": {
     "base_uri": "https://localhost:8080/",
     "height": 783
    },
    "colab_type": "code",
    "id": "_fWwMG9b4KBT",
    "outputId": "41b7b0ba-bdb8-47bf-98b0-1d1a45a2ce0f"
   },
   "outputs": [
    {
     "name": "stdout",
     "output_type": "stream",
     "text": [
      "Elapsed time (learning): 00:00:48\n",
      "Test loss: 0.4925716892340404\n",
      "Test accuracy: 0.8181818167238978\n"
     ]
    },
    {
     "data": {
      "image/png": "[encoded data removed]",
      "text/plain": [
       "<Figure size 432x288 with 1 Axes>"
      ]
     },
     "metadata": {
      "tags": []
     },
     "output_type": "display_data"
    },
    {
     "data": {
      "image/png": "[encoded data removed]",
      "text/plain": [
       "<Figure size 432x288 with 1 Axes>"
      ]
     },
     "metadata": {
      "tags": []
     },
     "output_type": "display_data"
    },
    {
     "name": "stdout",
     "output_type": "stream",
     "text": [
      "[[ 120  262]\n",
      " [ 184 1887]]\n",
      "              precision    recall  f1-score   support\n",
      "\n",
      "     Class 0       0.39      0.31      0.35       382\n",
      "     Class 1       0.88      0.91      0.89      2071\n",
      "\n",
      "    accuracy                           0.82      2453\n",
      "   macro avg       0.64      0.61      0.62      2453\n",
      "weighted avg       0.80      0.82      0.81      2453\n",
      "\n"
     ]
    }
   ],
   "source": [
    "# evaluation with over10\n",
    "\n",
    "ep=500\n",
    "bs=512\n",
    "vb=0\n",
    "vs=0.1\n",
    "\n",
    "# === FIT THE MODEL ===\n",
    "start_time=time.time()\n",
    "\n",
    "history = model.fit(x_train, y_train, epochs=ep, batch_size=bs, verbose=vb, validation_split=vs)#, validation_data=(x_test,y_test)\n",
    "\n",
    "elapsed_time = time.time() - start_time\n",
    "t = time.strftime(\"%H:%M:%S\", time.gmtime(elapsed_time))\n",
    "print('Elapsed time (learning):', t)\n",
    "\n",
    "\n",
    "# === EVALUATION ===\n",
    "score = model.evaluate(x_test, y_test, batch_size=bs, verbose=vb)\n",
    "\n",
    "print('Test loss:', score[0])\n",
    "print('Test accuracy:', score[1])\n",
    "\n",
    "\n",
    "# === PLOT THE TRAINING ===\n",
    "import matplotlib.pyplot as plt\n",
    "%matplotlib inline\n",
    "\n",
    "accuracy = history.history['acc']\n",
    "val_accuracy = history.history['val_acc']\n",
    "loss = history.history['loss']\n",
    "val_loss = history.history['val_loss']\n",
    "epochs = range(len(accuracy))\n",
    "\n",
    "plt.plot(epochs, accuracy, 'bo', label='Training accuracy')\n",
    "plt.plot(epochs, val_accuracy, 'b', label='Validation accuracy')\n",
    "plt.title('Training and validation accuracy')\n",
    "plt.legend()\n",
    "plt.figure()\n",
    "\n",
    "plt.plot(epochs, loss, 'bo', label='Training loss')\n",
    "plt.plot(epochs, val_loss, 'b', label='Validation loss')\n",
    "plt.title('Training and validation loss')\n",
    "plt.legend()\n",
    "plt.show()\n",
    "\n",
    "\n",
    "# === METRICS AND REPORT ===\n",
    "from sklearn.metrics import classification_report, confusion_matrix\n",
    "\n",
    "# get the predictions for the test data\n",
    "y_pred = model.predict_classes(x_test)\n",
    "\n",
    "# get the indices to be plotted\n",
    "# correct = np.where(y_pred==y_test)[0]\n",
    "# incorrect = np.where(y_pred!=y_test)[0]\n",
    "\n",
    "target_names = [\"Class {}\".format(i) for i in range(2)]\n",
    "\n",
    "print(confusion_matrix(Y_test,y_pred))\n",
    "print(classification_report(Y_test, y_pred, target_names=target_names))"
   ]
  },
  {
   "cell_type": "markdown",
   "metadata": {
    "colab_type": "text",
    "id": "1a8GGApjua_B"
   },
   "source": [
    "That's for saving and loading the model"
   ]
  },
  {
   "cell_type": "code",
   "execution_count": 0,
   "metadata": {
    "colab": {},
    "colab_type": "code",
    "id": "Qkh05r5JEInL"
   },
   "outputs": [],
   "source": [
    "model.save(path+file_dataframe[8:-17]+'-RNN_model.h5')"
   ]
  },
  {
   "cell_type": "code",
   "execution_count": 0,
   "metadata": {
    "colab": {},
    "colab_type": "code",
    "id": "99OiYIw5EUWW"
   },
   "outputs": [],
   "source": [
    "from keras.models import load_model\n",
    "\n",
    "model = load_model(path++file_dataframe[8:-17]+'-RNN_model.h5')\n",
    "# make predictions\n",
    "yhat = model.predict_classes(x_test, verbose=0)\n",
    "print(yhat)"
   ]
  },
  {
   "cell_type": "code",
   "execution_count": 0,
   "metadata": {
    "colab": {},
    "colab_type": "code",
    "id": "CCJ-J2iyExuz"
   },
   "outputs": [],
   "source": [
    "len(yhat)"
   ]
  },
  {
   "cell_type": "markdown",
   "metadata": {
    "colab_type": "text",
    "id": "tMdbest_dV1j"
   },
   "source": [
    "# Test with a review"
   ]
  },
  {
   "cell_type": "code",
   "execution_count": 0,
   "metadata": {
    "colab": {
     "base_uri": "https://localhost:8080/",
     "height": 88
    },
    "colab_type": "code",
    "id": "Yby_OznRaaqz",
    "outputId": "cd49b4d1-246e-48c0-d9fb-738a7a0fc85a"
   },
   "outputs": [
    {
     "name": "stderr",
     "output_type": "stream",
     "text": [
      "/usr/local/lib/python3.6/dist-packages/sklearn/feature_extraction/text.py:300: UserWarning: Your stop_words may be inconsistent with your preprocessing. Tokenizing the stop words generated tokens ['come', 'vis', 'viser', 'visest'] not in stop_words.\n",
      "  'stop_words.' % sorted(inconsistent))\n"
     ]
    },
    {
     "data": {
      "text/plain": [
       "TfidfTransformer(norm='l2', smooth_idf=True, sublinear_tf=False, use_idf=True)"
      ]
     },
     "execution_count": 123,
     "metadata": {
      "tags": []
     },
     "output_type": "execute_result"
    }
   ],
   "source": [
    "from sklearn.feature_extraction.text import TfidfTransformer, CountVectorizer\n",
    "import re\n",
    "import pandas as pd\n",
    "\n",
    "def get_stop_words(stop_file_path):\n",
    "  \"\"\"load stop words \"\"\"    \n",
    "  with open(stop_file_path, 'r', encoding=\"utf-8\") as f:\n",
    "    stopwords = f.readlines()\n",
    "    stop_set = set(m.strip() for m in stopwords)\n",
    "  return frozenset(stop_set)\n",
    "\n",
    "def compute_tfidf(doc,cv,tfidf_transformer,attributes):\n",
    "  #generate tf-idf for the given document\n",
    "  tf_idf_vector=tfidf_transformer.transform(cv.transform([doc])) \n",
    "  #sort the tf-idf vectors by descending order of scores\n",
    "  sorted_items=sort_coo(tf_idf_vector.tocoo())\n",
    "  #extract all items from document\n",
    "  keywords=extract_topn_from_vector(feature_names,sorted_items,len(doc))\n",
    "  dict_doc={}\n",
    "  for e in attributes:\n",
    "    if e in keywords:\n",
    "      dict_doc[e]=keywords[e]\n",
    "    else:\n",
    "      dict_doc[e]=0\n",
    "  return dict_doc\n",
    "\n",
    "def sort_coo(coo_matrix):\n",
    "  tuples = zip(coo_matrix.col, coo_matrix.data)\n",
    "  return sorted(tuples, key=lambda x: (x[1], x[0]), reverse=True)\n",
    " \n",
    "def extract_topn_from_vector(feature_names, sorted_items, topn=10):\n",
    "  \"\"\"get the feature names and tf-idf score of top n items\"\"\"\n",
    "  #use only topn items from vector\n",
    "  sorted_items = sorted_items[:topn] \n",
    "  score_vals = []\n",
    "  feature_vals = []\n",
    "  # word index and corresponding tf-idf score\n",
    "  for idx, score in sorted_items:\n",
    "    #keep track of feature name and its corresponding score\n",
    "    score_vals.append(round(score, 3))\n",
    "    feature_vals.append(feature_names[idx])\n",
    "  #create a tuples of feature,score\n",
    "  #results = zip(feature_vals,score_vals)\n",
    "  results= {}\n",
    "  for idx in range(len(feature_vals)):\n",
    "    results[feature_vals[idx]]=score_vals[idx]    \n",
    "  return results\n",
    "\n",
    "df=pd.read_csv(path+file_dataframe)\n",
    "\n",
    "#load a set of stop words\n",
    "stopwords=get_stop_words(path+'stopwords.txt')\n",
    "\n",
    "#get the text column \n",
    "docs=df['text'].tolist()\n",
    "\n",
    "#create a vocabulary of words, \n",
    "#ignore words that appear in 99,999999% of documents, \n",
    "#eliminate stop words\n",
    "cv=CountVectorizer(stop_words=stopwords)\n",
    "word_count_vector=cv.fit_transform(docs)\n",
    "\n",
    "tfidf_transformer=TfidfTransformer(smooth_idf=True,use_idf=True)\n",
    "tfidf_transformer.fit(word_count_vector)"
   ]
  },
  {
   "cell_type": "code",
   "execution_count": 0,
   "metadata": {
    "colab": {
     "base_uri": "https://localhost:8080/",
     "height": 85
    },
    "colab_type": "code",
    "id": "gkzXbtX4aaq6",
    "outputId": "2d88be4c-2c22-4c85-e8f9-2eac7885e142"
   },
   "outputs": [
    {
     "name": "stdout",
     "output_type": "stream",
     "text": [
      "[nltk_data] Downloading package punkt to /root/nltk_data...\n",
      "[nltk_data]   Unzipping tokenizers/punkt.zip.\n",
      "[nltk_data] Downloading package stopwords to /root/nltk_data...\n",
      "[nltk_data]   Unzipping corpora/stopwords.zip.\n"
     ]
    }
   ],
   "source": [
    "import nltk\n",
    "from nltk.stem.porter import PorterStemmer\n",
    "from nltk.corpus import stopwords\n",
    "nltk.download('punkt')\n",
    "nltk.download('stopwords')\n",
    "porter_stemmer = PorterStemmer()\n",
    "en_stops = set(stopwords.words('english'))\n",
    "\n",
    "#binary search to improve efficency\n",
    "def binary_search(e,l,inizio,fine):\n",
    "  if inizio>fine or e<l[inizio] or e>l[fine-1]:\n",
    "    return False\n",
    "  else:\n",
    "    mezzo=int((inizio+fine)/2)\n",
    "    m=l[mezzo]\n",
    "    if e==m:\n",
    "      return True\n",
    "    elif e>m:\n",
    "      return binary_search(e,l,mezzo,fine)\n",
    "    else:\n",
    "      return binary_search(e,l,inizio,mezzo)\n",
    "\n",
    "#removing symbols and adding space after them\n",
    "def prepreprocess(frase):\n",
    "  s=''\n",
    "  syms=['a','b','c','d','e','f','g','h','i','j','k','l','m','n','o','p','q','r','s','t','u','v','w','x','y','z','è','é','à','ò','ì','ù']\n",
    "  for char in frase:\n",
    "    if char not in syms:\n",
    "      s+=' '\n",
    "    else:\n",
    "      s+=char\n",
    "  return s\n",
    "\n",
    "#preprocess using prepreprocess fase and stemming and removing stopwords\n",
    "def preprocess(frase,en_words):\n",
    "  l=[]\n",
    "  for word in prepreprocess(frase.lower()).split(' '):\n",
    "    w=word.lower()\n",
    "    if w not in en_stops and len(w)>2 and binary_search(w,en_words,0,len(en_words)):\n",
    "        l.append(porter_stemmer.stem(w))\n",
    "  return repr(' '.join(l))"
   ]
  },
  {
   "cell_type": "code",
   "execution_count": 0,
   "metadata": {
    "colab": {},
    "colab_type": "code",
    "id": "0v-pOUBEaarD"
   },
   "outputs": [],
   "source": [
    "from sklearn.feature_extraction.text import TfidfVectorizer\n",
    "\n",
    "DF=pd.read_csv(path+file_dataframe)\n",
    "\n",
    "summary1='Great game of all the time!!!'\n",
    "reviewText1=\"I've never played this game first, but since the initial install I've fallen in love <3 !!! It's amazing because shooting mode is very easy and level of entertainment is fantastic! I'll play for hour and hour so long!!! Very recommended!!!!\"\n",
    "\n",
    "summary2='hahah'\n",
    "reviewText2=\"I like obama because he loves me so much and other people wanna play this game\"\n",
    "\n",
    "summary3=''\n",
    "reviewText3=\"hi everyone, I'm so happy!\"\n",
    "\n",
    "en_words=sorted(open(path+'en_words.txt', 'r').read().lower().split('\\n'))\n",
    "doc1=preprocess(str(summary1+' '+reviewText1),en_words)\n",
    "doc2=preprocess(str(summary2+' '+reviewText2),en_words)\n",
    "doc3=preprocess(str(summary3+' '+reviewText3),en_words)\n",
    "\n",
    "feature_names=cv.get_feature_names()\n",
    "\n",
    "dict_doc1=compute_tfidf(doc1,cv,tfidf_transformer,list(DF.columns[2:]))\n",
    "dict_doc2=compute_tfidf(doc2,cv,tfidf_transformer,list(DF.columns[2:]))\n",
    "dict_doc3=compute_tfidf(doc3,cv,tfidf_transformer,list(DF.columns[2:]))\n",
    "\n",
    "data_doc1=[]\n",
    "for v in dict_doc1.values():\n",
    "  data_doc1.append(float(v))\n",
    "  \n",
    "data_doc2=[]\n",
    "for v in dict_doc2.values():\n",
    "  data_doc2.append(float(v))\n",
    "  \n",
    "data_doc3=[]\n",
    "for v in dict_doc3.values():\n",
    "  data_doc3.append(float(v))\n",
    "  \n",
    "dc=[data_doc1, data_doc2, data_doc3]"
   ]
  },
  {
   "cell_type": "code",
   "execution_count": 0,
   "metadata": {
    "colab": {
     "base_uri": "https://localhost:8080/",
     "height": 34
    },
    "colab_type": "code",
    "id": "lNd8VBj9aarT",
    "outputId": "5d63e4e0-6c74-4261-cc71-3a1e3c89fb32"
   },
   "outputs": [
    {
     "data": {
      "text/plain": [
       "array([1, 0, 0])"
      ]
     },
     "execution_count": 132,
     "metadata": {
      "tags": []
     },
     "output_type": "execute_result"
    }
   ],
   "source": [
    "from keras.models import load_model\n",
    "\n",
    "model = load_model(path+file_dataframe[8:-17]+'-RNN_model.h5')\n",
    "model.predict_classes(np.array(dc[0:len(dc)]), verbose=0)"
   ]
  },
  {
   "cell_type": "markdown",
   "metadata": {
    "colab_type": "text",
    "id": "pqT_AoLAp1Pk"
   },
   "source": [
    "# Test with wine_data"
   ]
  },
  {
   "cell_type": "code",
   "execution_count": 0,
   "metadata": {
    "colab": {},
    "colab_type": "code",
    "id": "JdwUcZaYpvIg"
   },
   "outputs": [],
   "source": [
    "import numpy as np \n",
    "import pandas as pd\n",
    "from keras.models import Sequential \n",
    "from keras.layers import Dense,Dropout\n",
    "from sklearn.model_selection import train_test_split\n",
    "from keras.utils import to_categorical"
   ]
  },
  {
   "cell_type": "code",
   "execution_count": 0,
   "metadata": {
    "colab": {},
    "colab_type": "code",
    "id": "6IBhwy9Fp96u"
   },
   "outputs": [],
   "source": [
    "model = Sequential() # istanza di Sequential \n",
    "model.add(Dense(10, input_dim=13, activation='relu',name='hidde1')) #strato di input + hidden \n",
    "model.add(Dropout(0.5) )\n",
    "model.add(Dense(1, activation='tanh',name='outLayer')) #strato di output\n",
    "model.compile(loss='mean_squared_error', optimizer='rmsprop', metrics=['accuracy'])\n",
    "model.summary()"
   ]
  },
  {
   "cell_type": "code",
   "execution_count": 0,
   "metadata": {
    "colab": {},
    "colab_type": "code",
    "id": "vEu_6db8qAfN"
   },
   "outputs": [],
   "source": [
    "wine_data = pd.read_csv('https://archive.ics.uci.edu/ml/machine-learning-databases/wine/wine.data',header=None)\n",
    "\n",
    "\n",
    "np_wine_data = np.asarray(wine_data,dtype=np.float32)\n",
    "\n",
    "for i in range(1,14):\n",
    "  minx = np.min( np_wine_data[:,i] )\n",
    "  maxx = np.max( np_wine_data[:,i])\n",
    "  np_wine_data[:,i] = (np_wine_data[:,i]-minx)/(maxx-minx )\n",
    "  \n",
    "train, train_val = train_test_split(np_wine_data)\n",
    "\n",
    "x_train = train[0:,1:]\n",
    "y_train = train[0:,:1]-2\n",
    "\n",
    "x_test = train_val[0:,1:]\n",
    "y_test = train_val[0:,:1]-2 \n",
    "\n",
    "#print(  np_wine_data[:,1]   )"
   ]
  },
  {
   "cell_type": "code",
   "execution_count": 0,
   "metadata": {
    "colab": {},
    "colab_type": "code",
    "id": "kBPCEyymqTGN"
   },
   "outputs": [],
   "source": [
    "model.fit(x_train, y_train, validation_data=(x_test,y_test),epochs=500, batch_size=64,verbose=0)"
   ]
  },
  {
   "cell_type": "code",
   "execution_count": 0,
   "metadata": {
    "colab": {},
    "colab_type": "code",
    "id": "c49qjR_s70Sc"
   },
   "outputs": [],
   "source": [
    "model.fit(x_train, y_train, validation_data=(x_test,y_test),epochs=20, batch_size=64,verbose=1)"
   ]
  },
  {
   "cell_type": "code",
   "execution_count": 0,
   "metadata": {
    "colab": {},
    "colab_type": "code",
    "id": "AYobtF2ueccL"
   },
   "outputs": [],
   "source": [
    "from sklearn.metrics import classification_report, confusion_matrix\n",
    "\n",
    "y_pred=model.predict(x_test)\n",
    "\n",
    "# print(confusion_matrix(y_test,y_pred))\n",
    "# print(classification_report(y_test,y_pred))\n",
    "\n",
    "y_pred"
   ]
  }
 ],
 "metadata": {
  "accelerator": "GPU",
  "colab": {
   "collapsed_sections": [
    "tMdbest_dV1j",
    "pqT_AoLAp1Pk"
   ],
   "name": "prove_RNN.ipynb",
   "provenance": []
  },
  "kernelspec": {
   "display_name": "Python 3",
   "language": "python",
   "name": "python3"
  },
  "language_info": {
   "codemirror_mode": {
    "name": "ipython",
    "version": 3
   },
   "file_extension": ".py",
   "mimetype": "text/x-python",
   "name": "python",
   "nbconvert_exporter": "python",
   "pygments_lexer": "ipython3",
   "version": "3.7.3"
  }
 },
 "nbformat": 4,
 "nbformat_minor": 1
}

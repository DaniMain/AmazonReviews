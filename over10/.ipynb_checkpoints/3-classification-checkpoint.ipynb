{
 "cells": [
  {
   "cell_type": "markdown",
   "metadata": {
    "colab_type": "text",
    "id": "rwOdxGJzJbl_"
   },
   "source": [
    "# Classification using Naive Bayes"
   ]
  },
  {
   "cell_type": "code",
   "execution_count": 1,
   "metadata": {
    "colab": {},
    "colab_type": "code",
    "id": "dpcihxiJ4ITg"
   },
   "outputs": [
    {
     "data": {
      "text/html": [
       "<div>\n",
       "<style scoped>\n",
       "    .dataframe tbody tr th:only-of-type {\n",
       "        vertical-align: middle;\n",
       "    }\n",
       "\n",
       "    .dataframe tbody tr th {\n",
       "        vertical-align: top;\n",
       "    }\n",
       "\n",
       "    .dataframe thead th {\n",
       "        text-align: right;\n",
       "    }\n",
       "</style>\n",
       "<table border=\"1\" class=\"dataframe\">\n",
       "  <thead>\n",
       "    <tr style=\"text-align: right;\">\n",
       "      <th></th>\n",
       "      <th>text</th>\n",
       "      <th>utility</th>\n",
       "      <th>actual</th>\n",
       "      <th>anoth</th>\n",
       "      <th>back</th>\n",
       "      <th>bad</th>\n",
       "      <th>best</th>\n",
       "      <th>big</th>\n",
       "      <th>bit</th>\n",
       "      <th>buy</th>\n",
       "      <th>...</th>\n",
       "      <th>time</th>\n",
       "      <th>tri</th>\n",
       "      <th>turn</th>\n",
       "      <th>version</th>\n",
       "      <th>way</th>\n",
       "      <th>well</th>\n",
       "      <th>work</th>\n",
       "      <th>world</th>\n",
       "      <th>worth</th>\n",
       "      <th>year</th>\n",
       "    </tr>\n",
       "  </thead>\n",
       "  <tbody>\n",
       "    <tr>\n",
       "      <th>0</th>\n",
       "      <td>'pay unlock content think instal game struggl ...</td>\n",
       "      <td>0</td>\n",
       "      <td>0.0</td>\n",
       "      <td>0.052</td>\n",
       "      <td>0.0</td>\n",
       "      <td>0.0</td>\n",
       "      <td>0.000</td>\n",
       "      <td>0.0</td>\n",
       "      <td>0.0</td>\n",
       "      <td>0.091</td>\n",
       "      <td>...</td>\n",
       "      <td>0.000</td>\n",
       "      <td>0.000</td>\n",
       "      <td>0.000</td>\n",
       "      <td>0.000</td>\n",
       "      <td>0.000</td>\n",
       "      <td>0.000</td>\n",
       "      <td>0.000</td>\n",
       "      <td>0.0</td>\n",
       "      <td>0.000</td>\n",
       "      <td>0.000</td>\n",
       "    </tr>\n",
       "    <tr>\n",
       "      <th>1</th>\n",
       "      <td>'awesom game crash frequent got version instea...</td>\n",
       "      <td>1</td>\n",
       "      <td>0.0</td>\n",
       "      <td>0.000</td>\n",
       "      <td>0.0</td>\n",
       "      <td>0.0</td>\n",
       "      <td>0.000</td>\n",
       "      <td>0.0</td>\n",
       "      <td>0.0</td>\n",
       "      <td>0.046</td>\n",
       "      <td>...</td>\n",
       "      <td>0.069</td>\n",
       "      <td>0.047</td>\n",
       "      <td>0.029</td>\n",
       "      <td>0.147</td>\n",
       "      <td>0.000</td>\n",
       "      <td>0.020</td>\n",
       "      <td>0.024</td>\n",
       "      <td>0.0</td>\n",
       "      <td>0.028</td>\n",
       "      <td>0.052</td>\n",
       "    </tr>\n",
       "    <tr>\n",
       "      <th>2</th>\n",
       "      <td>'step dirt terrif love play dirt thought graph...</td>\n",
       "      <td>1</td>\n",
       "      <td>0.0</td>\n",
       "      <td>0.000</td>\n",
       "      <td>0.0</td>\n",
       "      <td>0.0</td>\n",
       "      <td>0.000</td>\n",
       "      <td>0.0</td>\n",
       "      <td>0.0</td>\n",
       "      <td>0.000</td>\n",
       "      <td>...</td>\n",
       "      <td>0.000</td>\n",
       "      <td>0.000</td>\n",
       "      <td>0.000</td>\n",
       "      <td>0.000</td>\n",
       "      <td>0.000</td>\n",
       "      <td>0.049</td>\n",
       "      <td>0.000</td>\n",
       "      <td>0.0</td>\n",
       "      <td>0.000</td>\n",
       "      <td>0.000</td>\n",
       "    </tr>\n",
       "    <tr>\n",
       "      <th>3</th>\n",
       "      <td>'fun pretti fun game buy car track onlin store...</td>\n",
       "      <td>1</td>\n",
       "      <td>0.0</td>\n",
       "      <td>0.000</td>\n",
       "      <td>0.0</td>\n",
       "      <td>0.0</td>\n",
       "      <td>0.000</td>\n",
       "      <td>0.0</td>\n",
       "      <td>0.0</td>\n",
       "      <td>0.138</td>\n",
       "      <td>...</td>\n",
       "      <td>0.052</td>\n",
       "      <td>0.000</td>\n",
       "      <td>0.000</td>\n",
       "      <td>0.000</td>\n",
       "      <td>0.064</td>\n",
       "      <td>0.000</td>\n",
       "      <td>0.000</td>\n",
       "      <td>0.0</td>\n",
       "      <td>0.000</td>\n",
       "      <td>0.000</td>\n",
       "    </tr>\n",
       "    <tr>\n",
       "      <th>4</th>\n",
       "      <td>'best graphic game far must gamer realli hit h...</td>\n",
       "      <td>1</td>\n",
       "      <td>0.0</td>\n",
       "      <td>0.000</td>\n",
       "      <td>0.0</td>\n",
       "      <td>0.0</td>\n",
       "      <td>0.105</td>\n",
       "      <td>0.0</td>\n",
       "      <td>0.0</td>\n",
       "      <td>0.148</td>\n",
       "      <td>...</td>\n",
       "      <td>0.000</td>\n",
       "      <td>0.000</td>\n",
       "      <td>0.000</td>\n",
       "      <td>0.000</td>\n",
       "      <td>0.000</td>\n",
       "      <td>0.044</td>\n",
       "      <td>0.000</td>\n",
       "      <td>0.0</td>\n",
       "      <td>0.000</td>\n",
       "      <td>0.000</td>\n",
       "    </tr>\n",
       "  </tbody>\n",
       "</table>\n",
       "<p>5 rows × 102 columns</p>\n",
       "</div>"
      ],
      "text/plain": [
       "                                                text  utility  actual  anoth  \\\n",
       "0  'pay unlock content think instal game struggl ...        0     0.0  0.052   \n",
       "1  'awesom game crash frequent got version instea...        1     0.0  0.000   \n",
       "2  'step dirt terrif love play dirt thought graph...        1     0.0  0.000   \n",
       "3  'fun pretti fun game buy car track onlin store...        1     0.0  0.000   \n",
       "4  'best graphic game far must gamer realli hit h...        1     0.0  0.000   \n",
       "\n",
       "   back  bad   best  big  bit    buy  ...   time    tri   turn  version  \\\n",
       "0   0.0  0.0  0.000  0.0  0.0  0.091  ...  0.000  0.000  0.000    0.000   \n",
       "1   0.0  0.0  0.000  0.0  0.0  0.046  ...  0.069  0.047  0.029    0.147   \n",
       "2   0.0  0.0  0.000  0.0  0.0  0.000  ...  0.000  0.000  0.000    0.000   \n",
       "3   0.0  0.0  0.000  0.0  0.0  0.138  ...  0.052  0.000  0.000    0.000   \n",
       "4   0.0  0.0  0.105  0.0  0.0  0.148  ...  0.000  0.000  0.000    0.000   \n",
       "\n",
       "     way   well   work  world  worth   year  \n",
       "0  0.000  0.000  0.000    0.0  0.000  0.000  \n",
       "1  0.000  0.020  0.024    0.0  0.028  0.052  \n",
       "2  0.000  0.049  0.000    0.0  0.000  0.000  \n",
       "3  0.064  0.000  0.000    0.0  0.000  0.000  \n",
       "4  0.000  0.044  0.000    0.0  0.000  0.000  \n",
       "\n",
       "[5 rows x 102 columns]"
      ]
     },
     "execution_count": 1,
     "metadata": {},
     "output_type": "execute_result"
    }
   ],
   "source": [
    "import pandas as pd\n",
    "\n",
    "DF=pd.read_csv('../data/reviews_Video_Games_5-over10-data_frame.csv')\n",
    "DF.head()"
   ]
  },
  {
   "cell_type": "code",
   "execution_count": 2,
   "metadata": {
    "colab": {},
    "colab_type": "code",
    "id": "AV5riTOJ4ITo"
   },
   "outputs": [
    {
     "data": {
      "text/html": [
       "<div>\n",
       "<style scoped>\n",
       "    .dataframe tbody tr th:only-of-type {\n",
       "        vertical-align: middle;\n",
       "    }\n",
       "\n",
       "    .dataframe tbody tr th {\n",
       "        vertical-align: top;\n",
       "    }\n",
       "\n",
       "    .dataframe thead th {\n",
       "        text-align: right;\n",
       "    }\n",
       "</style>\n",
       "<table border=\"1\" class=\"dataframe\">\n",
       "  <thead>\n",
       "    <tr style=\"text-align: right;\">\n",
       "      <th></th>\n",
       "      <th>text</th>\n",
       "      <th>utility</th>\n",
       "      <th>actual</th>\n",
       "      <th>anoth</th>\n",
       "      <th>back</th>\n",
       "      <th>bad</th>\n",
       "      <th>best</th>\n",
       "      <th>big</th>\n",
       "      <th>bit</th>\n",
       "      <th>buy</th>\n",
       "      <th>...</th>\n",
       "      <th>time</th>\n",
       "      <th>tri</th>\n",
       "      <th>turn</th>\n",
       "      <th>version</th>\n",
       "      <th>way</th>\n",
       "      <th>well</th>\n",
       "      <th>work</th>\n",
       "      <th>world</th>\n",
       "      <th>worth</th>\n",
       "      <th>year</th>\n",
       "    </tr>\n",
       "  </thead>\n",
       "  <tbody>\n",
       "    <tr>\n",
       "      <th>30126</th>\n",
       "      <td>'scam real bundl real mario kart bundl red box...</td>\n",
       "      <td>1</td>\n",
       "      <td>0.000</td>\n",
       "      <td>0.0</td>\n",
       "      <td>0.0</td>\n",
       "      <td>0.0</td>\n",
       "      <td>0.057</td>\n",
       "      <td>0.0</td>\n",
       "      <td>0.0</td>\n",
       "      <td>0.053</td>\n",
       "      <td>...</td>\n",
       "      <td>0.0</td>\n",
       "      <td>0.000</td>\n",
       "      <td>0.0</td>\n",
       "      <td>0.000</td>\n",
       "      <td>0.0</td>\n",
       "      <td>0.0</td>\n",
       "      <td>0.0</td>\n",
       "      <td>0.0</td>\n",
       "      <td>0.0</td>\n",
       "      <td>0.0</td>\n",
       "    </tr>\n",
       "    <tr>\n",
       "      <th>30127</th>\n",
       "      <td>'get bundl includ extra wheel control delux ma...</td>\n",
       "      <td>1</td>\n",
       "      <td>0.000</td>\n",
       "      <td>0.0</td>\n",
       "      <td>0.0</td>\n",
       "      <td>0.0</td>\n",
       "      <td>0.000</td>\n",
       "      <td>0.0</td>\n",
       "      <td>0.0</td>\n",
       "      <td>0.000</td>\n",
       "      <td>...</td>\n",
       "      <td>0.0</td>\n",
       "      <td>0.000</td>\n",
       "      <td>0.0</td>\n",
       "      <td>0.000</td>\n",
       "      <td>0.0</td>\n",
       "      <td>0.0</td>\n",
       "      <td>0.0</td>\n",
       "      <td>0.0</td>\n",
       "      <td>0.0</td>\n",
       "      <td>0.0</td>\n",
       "    </tr>\n",
       "    <tr>\n",
       "      <th>30128</th>\n",
       "      <td>'fake bundl packag red show steer wheel retail...</td>\n",
       "      <td>1</td>\n",
       "      <td>0.000</td>\n",
       "      <td>0.0</td>\n",
       "      <td>0.0</td>\n",
       "      <td>0.0</td>\n",
       "      <td>0.000</td>\n",
       "      <td>0.0</td>\n",
       "      <td>0.0</td>\n",
       "      <td>0.000</td>\n",
       "      <td>...</td>\n",
       "      <td>0.0</td>\n",
       "      <td>0.000</td>\n",
       "      <td>0.0</td>\n",
       "      <td>0.000</td>\n",
       "      <td>0.0</td>\n",
       "      <td>0.0</td>\n",
       "      <td>0.0</td>\n",
       "      <td>0.0</td>\n",
       "      <td>0.0</td>\n",
       "      <td>0.0</td>\n",
       "    </tr>\n",
       "    <tr>\n",
       "      <th>30129</th>\n",
       "      <td>'look like gouger get packag mine arriv box red'</td>\n",
       "      <td>1</td>\n",
       "      <td>0.000</td>\n",
       "      <td>0.0</td>\n",
       "      <td>0.0</td>\n",
       "      <td>0.0</td>\n",
       "      <td>0.000</td>\n",
       "      <td>0.0</td>\n",
       "      <td>0.0</td>\n",
       "      <td>0.000</td>\n",
       "      <td>...</td>\n",
       "      <td>0.0</td>\n",
       "      <td>0.000</td>\n",
       "      <td>0.0</td>\n",
       "      <td>0.000</td>\n",
       "      <td>0.0</td>\n",
       "      <td>0.0</td>\n",
       "      <td>0.0</td>\n",
       "      <td>0.0</td>\n",
       "      <td>0.0</td>\n",
       "      <td>0.0</td>\n",
       "    </tr>\n",
       "    <tr>\n",
       "      <th>30130</th>\n",
       "      <td>'buy look european version real retail store t...</td>\n",
       "      <td>1</td>\n",
       "      <td>0.082</td>\n",
       "      <td>0.0</td>\n",
       "      <td>0.0</td>\n",
       "      <td>0.0</td>\n",
       "      <td>0.077</td>\n",
       "      <td>0.0</td>\n",
       "      <td>0.0</td>\n",
       "      <td>0.145</td>\n",
       "      <td>...</td>\n",
       "      <td>0.0</td>\n",
       "      <td>0.074</td>\n",
       "      <td>0.0</td>\n",
       "      <td>0.186</td>\n",
       "      <td>0.0</td>\n",
       "      <td>0.0</td>\n",
       "      <td>0.0</td>\n",
       "      <td>0.0</td>\n",
       "      <td>0.0</td>\n",
       "      <td>0.0</td>\n",
       "    </tr>\n",
       "  </tbody>\n",
       "</table>\n",
       "<p>5 rows × 102 columns</p>\n",
       "</div>"
      ],
      "text/plain": [
       "                                                    text  utility  actual  \\\n",
       "30126  'scam real bundl real mario kart bundl red box...        1   0.000   \n",
       "30127  'get bundl includ extra wheel control delux ma...        1   0.000   \n",
       "30128  'fake bundl packag red show steer wheel retail...        1   0.000   \n",
       "30129   'look like gouger get packag mine arriv box red'        1   0.000   \n",
       "30130  'buy look european version real retail store t...        1   0.082   \n",
       "\n",
       "       anoth  back  bad   best  big  bit    buy  ...  time    tri  turn  \\\n",
       "30126    0.0   0.0  0.0  0.057  0.0  0.0  0.053  ...   0.0  0.000   0.0   \n",
       "30127    0.0   0.0  0.0  0.000  0.0  0.0  0.000  ...   0.0  0.000   0.0   \n",
       "30128    0.0   0.0  0.0  0.000  0.0  0.0  0.000  ...   0.0  0.000   0.0   \n",
       "30129    0.0   0.0  0.0  0.000  0.0  0.0  0.000  ...   0.0  0.000   0.0   \n",
       "30130    0.0   0.0  0.0  0.077  0.0  0.0  0.145  ...   0.0  0.074   0.0   \n",
       "\n",
       "       version  way  well  work  world  worth  year  \n",
       "30126    0.000  0.0   0.0   0.0    0.0    0.0   0.0  \n",
       "30127    0.000  0.0   0.0   0.0    0.0    0.0   0.0  \n",
       "30128    0.000  0.0   0.0   0.0    0.0    0.0   0.0  \n",
       "30129    0.000  0.0   0.0   0.0    0.0    0.0   0.0  \n",
       "30130    0.186  0.0   0.0   0.0    0.0    0.0   0.0  \n",
       "\n",
       "[5 rows x 102 columns]"
      ]
     },
     "execution_count": 2,
     "metadata": {},
     "output_type": "execute_result"
    }
   ],
   "source": [
    "DF.tail()"
   ]
  },
  {
   "cell_type": "code",
   "execution_count": 3,
   "metadata": {
    "colab": {},
    "colab_type": "code",
    "id": "KM5hKfOa4ITv"
   },
   "outputs": [],
   "source": [
    "import csv\n",
    "\n",
    "data=[]\n",
    "target=[]\n",
    "\n",
    "reader=csv.reader(open('../data/reviews_Video_Games_5-over10-data_frame.csv','rt'))\n",
    "\n",
    "next(reader)\n",
    "for row in reader:\n",
    "  target.append(row[1])\n",
    "  l=[]\n",
    "  for e in row[2:]:\n",
    "    l.append(float(e))\n",
    "  data.append(l)"
   ]
  },
  {
   "cell_type": "code",
   "execution_count": 4,
   "metadata": {
    "colab": {},
    "colab_type": "code",
    "id": "rO-OKI4X4IT1"
   },
   "outputs": [],
   "source": [
    "from sklearn.naive_bayes import GaussianNB\n",
    "\n",
    "gnb=GaussianNB()\n",
    "pred=gnb.fit(data,target).predict(data)"
   ]
  },
  {
   "cell_type": "code",
   "execution_count": 5,
   "metadata": {
    "colab": {
     "base_uri": "https://localhost:8080/",
     "height": 68
    },
    "colab_type": "code",
    "executionInfo": {
     "elapsed": 1599,
     "status": "ok",
     "timestamp": 1570449248789,
     "user": {
      "displayName": "Daniele Mainella",
      "photoUrl": "https://lh3.googleusercontent.com/a-/AAuE7mBTWNOc0oxkHhJk5ULS254X8ien6i4qKl7G1tMuZw=s64",
      "userId": "04877843810688149002"
     },
     "user_tz": -120
    },
    "id": "aTvDfOaQ4IUI",
    "outputId": "2ea478cc-b551-4295-8ab7-f592f1337f99"
   },
   "outputs": [
    {
     "name": "stdout",
     "output_type": "stream",
     "text": [
      "Number of corrected points out of a total 30131 points : 19581\n",
      "Number of mislabeled points out of a total 30131 points : 10550\n",
      "Accuracy : 0.649862\n"
     ]
    }
   ],
   "source": [
    "tot=len(data)\n",
    "corrected=(target == pred).sum()\n",
    "uncorrected=(target != pred).sum()\n",
    "print(\"Number of corrected points out of a total %d points : %d\" % (tot,corrected))\n",
    "print(\"Number of mislabeled points out of a total %d points : %d\" % (tot,uncorrected))\n",
    "print(\"Accuracy : %f\" % (corrected/tot))"
   ]
  },
  {
   "cell_type": "markdown",
   "metadata": {
    "colab_type": "text",
    "id": "3UeSF0HCE4iA"
   },
   "source": [
    "#Test"
   ]
  },
  {
   "cell_type": "code",
   "execution_count": 0,
   "metadata": {
    "colab": {},
    "colab_type": "code",
    "id": "YP4NVlzZ4IUO"
   },
   "outputs": [],
   "source": [
    "def compute_tfidf(doc,cv,tfidf_transformer,attributes):\n",
    "  #generate tf-idf for the given document\n",
    "  tf_idf_vector=tfidf_transformer.transform(cv.transform([doc])) \n",
    "  #sort the tf-idf vectors by descending order of scores\n",
    "  sorted_items=sort_coo(tf_idf_vector.tocoo())\n",
    "  #extract all items from document\n",
    "  keywords=extract_topn_from_vector(feature_names,sorted_items,len(doc))\n",
    "  dict_doc={}\n",
    "  for e in attributes:\n",
    "    if e in keywords:\n",
    "      dict_doc[e]=keywords[e]\n",
    "    else:\n",
    "      dict_doc[e]=0\n",
    "  return dict_doc"
   ]
  },
  {
   "cell_type": "code",
   "execution_count": 26,
   "metadata": {
    "colab": {
     "base_uri": "https://localhost:8080/",
     "height": 85
    },
    "colab_type": "code",
    "executionInfo": {
     "elapsed": 2976,
     "status": "ok",
     "timestamp": 1570449343748,
     "user": {
      "displayName": "Daniele Mainella",
      "photoUrl": "https://lh3.googleusercontent.com/a-/AAuE7mBTWNOc0oxkHhJk5ULS254X8ien6i4qKl7G1tMuZw=s64",
      "userId": "04877843810688149002"
     },
     "user_tz": -120
    },
    "id": "y6u3S3ZlEwbE",
    "outputId": "67f5beac-40af-469c-c350-323376ff2ac4"
   },
   "outputs": [
    {
     "name": "stdout",
     "output_type": "stream",
     "text": [
      "[nltk_data] Downloading package punkt to /root/nltk_data...\n",
      "[nltk_data]   Unzipping tokenizers/punkt.zip.\n",
      "[nltk_data] Downloading package stopwords to /root/nltk_data...\n",
      "[nltk_data]   Unzipping corpora/stopwords.zip.\n"
     ]
    }
   ],
   "source": [
    "import nltk\n",
    "from nltk.stem.porter import PorterStemmer\n",
    "from nltk.corpus import stopwords\n",
    "nltk.download('punkt')\n",
    "nltk.download('stopwords')\n",
    "porter_stemmer = PorterStemmer()\n",
    "en_stops = set(stopwords.words('english'))\n",
    "\n",
    "#binary search to improve efficency\n",
    "def binary_search(e,l,inizio,fine):\n",
    "  if inizio>fine or e<l[inizio] or e>l[fine-1]:\n",
    "    return False\n",
    "  else:\n",
    "    mezzo=int((inizio+fine)/2)\n",
    "    m=l[mezzo]\n",
    "    if e==m:\n",
    "      return True\n",
    "    elif e>m:\n",
    "      return binary_search(e,l,mezzo,fine)\n",
    "    else:\n",
    "      return binary_search(e,l,inizio,mezzo)\n",
    "\n",
    "#removing symbols and adding space after them\n",
    "def prepreprocess(frase):\n",
    "  s=''\n",
    "  syms=['a','b','c','d','e','f','g','h','i','j','k','l','m','n','o','p','q','r','s','t','u','v','w','x','y','z','è','é','à','ò','ì','ù']\n",
    "  for char in frase:\n",
    "    if char not in syms:\n",
    "      s+=' '\n",
    "    else:\n",
    "      s+=char\n",
    "  return s\n",
    "\n",
    "#preprocess using prepreprocess fase and stemming and removing stopwords\n",
    "def preprocess(frase,en_words):\n",
    "  l=[]\n",
    "  for word in prepreprocess(frase.lower()).split(' '):\n",
    "    w=word.lower()\n",
    "    if w not in en_stops and len(w)>2 and binary_search(w,en_words,0,len(en_words)):\n",
    "        l.append(porter_stemmer.stem(w))\n",
    "  return repr(' '.join(l))"
   ]
  },
  {
   "cell_type": "code",
   "execution_count": 27,
   "metadata": {
    "colab": {
     "base_uri": "https://localhost:8080/",
     "height": 232
    },
    "colab_type": "code",
    "executionInfo": {
     "elapsed": 2398,
     "status": "error",
     "timestamp": 1570449343765,
     "user": {
      "displayName": "Daniele Mainella",
      "photoUrl": "https://lh3.googleusercontent.com/a-/AAuE7mBTWNOc0oxkHhJk5ULS254X8ien6i4qKl7G1tMuZw=s64",
      "userId": "04877843810688149002"
     },
     "user_tz": -120
    },
    "id": "cmERPLpw4IUa",
    "outputId": "368ce8dc-83d5-4857-bb42-dae030e9472f"
   },
   "outputs": [
    {
     "ename": "NameError",
     "evalue": "ignored",
     "output_type": "error",
     "traceback": [
      "\u001b[0;31m---------------------------------------------------------------------------\u001b[0m",
      "\u001b[0;31mNameError\u001b[0m                                 Traceback (most recent call last)",
      "\u001b[0;32m<ipython-input-27-78f61a5abb0f>\u001b[0m in \u001b[0;36m<module>\u001b[0;34m()\u001b[0m\n\u001b[1;32m     10\u001b[0m \u001b[0;32mfrom\u001b[0m \u001b[0msklearn\u001b[0m\u001b[0;34m.\u001b[0m\u001b[0mfeature_extraction\u001b[0m\u001b[0;34m.\u001b[0m\u001b[0mtext\u001b[0m \u001b[0;32mimport\u001b[0m \u001b[0mTfidfVectorizer\u001b[0m\u001b[0;34m\u001b[0m\u001b[0;34m\u001b[0m\u001b[0m\n\u001b[1;32m     11\u001b[0m \u001b[0;34m\u001b[0m\u001b[0m\n\u001b[0;32m---> 12\u001b[0;31m \u001b[0mfeature_names\u001b[0m\u001b[0;34m=\u001b[0m\u001b[0mcv\u001b[0m\u001b[0;34m.\u001b[0m\u001b[0mget_feature_names\u001b[0m\u001b[0;34m(\u001b[0m\u001b[0;34m)\u001b[0m\u001b[0;34m\u001b[0m\u001b[0;34m\u001b[0m\u001b[0m\n\u001b[0m\u001b[1;32m     13\u001b[0m \u001b[0;34m\u001b[0m\u001b[0m\n\u001b[1;32m     14\u001b[0m \u001b[0mdict_doc\u001b[0m\u001b[0;34m=\u001b[0m\u001b[0mcompute_tfidf\u001b[0m\u001b[0;34m(\u001b[0m\u001b[0mdoc\u001b[0m\u001b[0;34m,\u001b[0m\u001b[0mcv\u001b[0m\u001b[0;34m,\u001b[0m\u001b[0mtfidf_transformer\u001b[0m\u001b[0;34m,\u001b[0m\u001b[0mlist\u001b[0m\u001b[0;34m(\u001b[0m\u001b[0mDF\u001b[0m\u001b[0;34m.\u001b[0m\u001b[0mcolumns\u001b[0m\u001b[0;34m[\u001b[0m\u001b[0;36m2\u001b[0m\u001b[0;34m:\u001b[0m\u001b[0;34m]\u001b[0m\u001b[0;34m)\u001b[0m\u001b[0;34m)\u001b[0m\u001b[0;34m\u001b[0m\u001b[0;34m\u001b[0m\u001b[0m\n",
      "\u001b[0;31mNameError\u001b[0m: name 'cv' is not defined"
     ]
    }
   ],
   "source": [
    "summary='Great game of all the time!!!'\n",
    "reviewText=\"I've never played this game first, but since the initial install I've fallen in love <3 !!! It's amazing because shooting mode is very easy and level of entertainment is fantastic! I'll play for hour and hour so long!!! Very recommended!!!!\"\n",
    "\n",
    "# summary='hahah'\n",
    "# reviewText=\"I like obama because he loves me so much and other people wanna play this game\"\n",
    "\n",
    "en_words=sorted(open('/content/drive/My Drive/uni/AmazonReviews/data/en_words.txt', 'r').read().lower().split('\\n'))\n",
    "doc=preprocess(str(summary+' '+reviewText),en_words)\n",
    "\n",
    "from sklearn.feature_extraction.text import TfidfVectorizer\n",
    "\n",
    "feature_names=cv.get_feature_names()\n",
    "\n",
    "dict_doc=compute_tfidf(doc,cv,tfidf_transformer,list(DF.columns[2:]))\n",
    "\n",
    "data_doc=[]\n",
    "for v in dict_doc.values():\n",
    "  data_doc.append(float(v))"
   ]
  },
  {
   "cell_type": "code",
   "execution_count": 0,
   "metadata": {
    "colab": {
     "base_uri": "https://localhost:8080/",
     "height": 34
    },
    "colab_type": "code",
    "executionInfo": {
     "elapsed": 3108,
     "status": "ok",
     "timestamp": 1553593738423,
     "user": {
      "displayName": "Daniele Mainella",
      "photoUrl": "https://lh5.googleusercontent.com/-0G8yeN9on6Q/AAAAAAAAAAI/AAAAAAAABkE/PZR1oWZtfKU/s64/photo.jpg",
      "userId": "04877843810688149002"
     },
     "user_tz": -60
    },
    "id": "Nhd-epFQ4IUn",
    "outputId": "2c982a65-1592-4c06-9772-ef4d3270ca1a"
   },
   "outputs": [
    {
     "name": "stdout",
     "output_type": "stream",
     "text": [
      "['0']\n"
     ]
    }
   ],
   "source": [
    "import numpy as np\n",
    "\n",
    "gnb_pf=GaussianNB()\n",
    "gnb_pf.partial_fit(data,target,np.unique(target))\n",
    "print(gnb_pf.predict([data_doc]))"
   ]
  },
  {
   "cell_type": "markdown",
   "metadata": {
    "colab_type": "text",
    "id": "FwuimlYUGnmW"
   },
   "source": [
    "Classification using Naive-Bayes and K-Fold cross validation"
   ]
  },
  {
   "cell_type": "code",
   "execution_count": 6,
   "metadata": {
    "colab": {},
    "colab_type": "code",
    "id": "dl3riMtfGu84"
   },
   "outputs": [],
   "source": [
    "import csv\n",
    "import numpy as np\n",
    "\n",
    "data=[]\n",
    "target=[]\n",
    "\n",
    "reader=csv.reader(open('../data/reviews_Video_Games_5-over10-data_frame.csv','rt'))\n",
    "\n",
    "next(reader)\n",
    "for row in reader:\n",
    "    target.append(int(row[1]))\n",
    "    l=[]\n",
    "    for e in row[2:]:\n",
    "        l.append(np.float64(e))\n",
    "    data.append(np.array(l))\n",
    "    \n",
    "data=np.array(data)\n",
    "target=np.array(target)"
   ]
  },
  {
   "cell_type": "code",
   "execution_count": 7,
   "metadata": {
    "colab": {},
    "colab_type": "code",
    "id": "iUF_LMtMGy1I"
   },
   "outputs": [],
   "source": [
    "from sklearn.model_selection import KFold\n",
    "\n",
    "kf=KFold(n_splits=10, shuffle=True, random_state=None)\n",
    "for train_index, test_index in kf.split(data):\n",
    "    X_train, X_test = data[train_index], data[test_index]\n",
    "    y_train, y_test = target[train_index], target[test_index]"
   ]
  },
  {
   "cell_type": "code",
   "execution_count": 8,
   "metadata": {
    "colab": {},
    "colab_type": "code",
    "id": "AFJi8diPG0v5"
   },
   "outputs": [],
   "source": [
    "from sklearn.naive_bayes import GaussianNB\n",
    "\n",
    "prediction=GaussianNB().fit(X_train, y_train).predict(X_test)"
   ]
  },
  {
   "cell_type": "code",
   "execution_count": 9,
   "metadata": {
    "colab": {
     "base_uri": "https://localhost:8080/",
     "height": 119
    },
    "colab_type": "code",
    "executionInfo": {
     "elapsed": 1444,
     "status": "ok",
     "timestamp": 1570449959427,
     "user": {
      "displayName": "Daniele Mainella",
      "photoUrl": "https://lh3.googleusercontent.com/a-/AAuE7mBTWNOc0oxkHhJk5ULS254X8ien6i4qKl7G1tMuZw=s64",
      "userId": "04877843810688149002"
     },
     "user_tz": -120
    },
    "id": "Kf5pObvDG2fu",
    "outputId": "2e40c18b-1e85-420e-e130-43ac6e3977ac"
   },
   "outputs": [
    {
     "name": "stdout",
     "output_type": "stream",
     "text": [
      "true positive: 1212 ( 40.22568868237637 % )\n",
      "true negative: 721 ( 23.929638234317956 % )\n",
      "false positive: 692 ( 22.96714238300697 % )\n",
      "false negative: 387 ( 12.844341188184533 % )\n",
      "\n",
      "accuracy: 64.15532691669432 %\n"
     ]
    }
   ],
   "source": [
    "tp=0\n",
    "tn=0\n",
    "fp=0\n",
    "fn=0\n",
    "\n",
    "size=len(prediction)\n",
    "for i in range (0,size-1):\n",
    "    real=y_test[i]\n",
    "    pred=prediction[i]\n",
    "    if pred==1:\n",
    "        if real==1:\n",
    "            tp+=1\n",
    "        else:\n",
    "            fp+=1\n",
    "    elif pred==0:\n",
    "        if real==0:\n",
    "            tn+=1\n",
    "        else:\n",
    "            fn+=1\n",
    "            \n",
    "print(\"true positive:\",tp,\"(\",tp/size*100,\"% )\")\n",
    "print(\"true negative:\",tn,\"(\",tn/size*100,\"% )\")\n",
    "print(\"false positive:\",fp,\"(\",fp/size*100,\"% )\")\n",
    "print(\"false negative:\",fn,\"(\",fn/size*100,\"% )\")\n",
    "\n",
    "print(\"\\naccuracy:\",(tp+tn)/size*100,\"%\")"
   ]
  },
  {
   "cell_type": "markdown",
   "metadata": {
    "colab_type": "text",
    "id": "9BhLVKHVFA_h"
   },
   "source": [
    "Classification using SVM"
   ]
  },
  {
   "cell_type": "code",
   "execution_count": 11,
   "metadata": {
    "colab": {},
    "colab_type": "code",
    "id": "B0v4A4BwFFsp"
   },
   "outputs": [],
   "source": [
    "import pandas as pd\n",
    "import numpy as np\n",
    "#import matplotlib.pyplot as plt\n",
    "#%matplotlib inline\n",
    "\n",
    "bankdata = pd.read_csv(\"../data/reviews_Video_Games_5-over10-data_frame.csv\")\n",
    "#bankdata.head()"
   ]
  },
  {
   "cell_type": "code",
   "execution_count": 12,
   "metadata": {
    "colab": {},
    "colab_type": "code",
    "id": "n4fGX7CpHf-y"
   },
   "outputs": [],
   "source": [
    "#To divide the data into attributes and labels, execute the following code:\n",
    "#In the first line of the script above, all the columns of the bankdata dataframe are being stored in \n",
    "#the X variable except the \"Class\" column, \n",
    "#which is the label column. The drop() method drops this column. In the second line, only the class \n",
    "#column is being stored in the y variable. \n",
    "#At this point of time X variable contains attributes while y variable contains corresponding labels.\n",
    "X = bankdata.drop('utility', axis=1).drop('text', axis=1)\n",
    "y = bankdata['utility']"
   ]
  },
  {
   "cell_type": "code",
   "execution_count": 13,
   "metadata": {
    "colab": {},
    "colab_type": "code",
    "id": "ujDmy4knHlll"
   },
   "outputs": [],
   "source": [
    "#the model_selection library of the Scikit-Learn library contains the train_test_split method that allows us \n",
    "#to seamlessly divide data into training and test sets.\n",
    "from sklearn.model_selection import train_test_split\n",
    "X_train, X_test, y_train, y_test = train_test_split(X, y, test_size = 0.20)"
   ]
  },
  {
   "cell_type": "code",
   "execution_count": 14,
   "metadata": {
    "colab": {
     "base_uri": "https://localhost:8080/",
     "height": 34
    },
    "colab_type": "code",
    "executionInfo": {
     "elapsed": 93317,
     "status": "ok",
     "timestamp": 1570450334375,
     "user": {
      "displayName": "Daniele Mainella",
      "photoUrl": "https://lh3.googleusercontent.com/a-/AAuE7mBTWNOc0oxkHhJk5ULS254X8ien6i4qKl7G1tMuZw=s64",
      "userId": "04877843810688149002"
     },
     "user_tz": -120
    },
    "id": "MhfM-R5cHnoT",
    "outputId": "b2fe5de8-f325-4382-ffd9-d468fa9ec980"
   },
   "outputs": [
    {
     "name": "stdout",
     "output_type": "stream",
     "text": [
      "Time: 364.8301224708557 seconds\n"
     ]
    }
   ],
   "source": [
    "#In the case of a simple SVM we simply set this parameter as \"linear\" since simple SVMs can only classify linearly separable data.\n",
    "from sklearn.svm import SVC\n",
    "import time\n",
    "\n",
    "start = time.time()\n",
    "\n",
    "svclassifier = SVC(kernel='rbf', gamma='auto') #Linear Kernel (linear); Polynomial K. (poly); Gaussian K. (rbf); Sigmoid K. (sigmoid)\n",
    "svclassifier.fit(X_train, y_train)\n",
    "\n",
    "end = time.time()\n",
    "print(\"Time:\",end-start,\"seconds\")"
   ]
  },
  {
   "cell_type": "code",
   "execution_count": 15,
   "metadata": {
    "colab": {
     "base_uri": "https://localhost:8080/",
     "height": 34
    },
    "colab_type": "code",
    "executionInfo": {
     "elapsed": 19949,
     "status": "ok",
     "timestamp": 1570453815526,
     "user": {
      "displayName": "Daniele Mainella",
      "photoUrl": "https://lh3.googleusercontent.com/a-/AAuE7mBTWNOc0oxkHhJk5ULS254X8ien6i4qKl7G1tMuZw=s64",
      "userId": "04877843810688149002"
     },
     "user_tz": -120
    },
    "id": "eIU6ogJMHqmA",
    "outputId": "882e0db1-99d3-413b-8373-dbd98477457d"
   },
   "outputs": [
    {
     "name": "stdout",
     "output_type": "stream",
     "text": [
      "Time: 91.02998352050781 seconds\n"
     ]
    }
   ],
   "source": [
    "#To make predictions, the predict method of the SVC class is used.\n",
    "import time\n",
    "\n",
    "start=time.time()\n",
    "\n",
    "y_pred = svclassifier.predict(X_test)\n",
    "\n",
    "end=time.time()\n",
    "print(\"Time:\",end-start,\"seconds\")"
   ]
  },
  {
   "cell_type": "code",
   "execution_count": 41,
   "metadata": {
    "colab": {
     "base_uri": "https://localhost:8080/",
     "height": 204
    },
    "colab_type": "code",
    "executionInfo": {
     "elapsed": 973,
     "status": "ok",
     "timestamp": 1570453818014,
     "user": {
      "displayName": "Daniele Mainella",
      "photoUrl": "https://lh3.googleusercontent.com/a-/AAuE7mBTWNOc0oxkHhJk5ULS254X8ien6i4qKl7G1tMuZw=s64",
      "userId": "04877843810688149002"
     },
     "user_tz": -120
    },
    "id": "BPThlacdHsqY",
    "outputId": "8cff1430-1875-4ca5-a49f-5a7f15f6e12a"
   },
   "outputs": [
    {
     "name": "stdout",
     "output_type": "stream",
     "text": [
      "[[  24 2753]\n",
      " [   6 3244]]\n",
      "              precision    recall  f1-score   support\n",
      "\n",
      "           0       0.80      0.01      0.02      2777\n",
      "           1       0.54      1.00      0.70      3250\n",
      "\n",
      "    accuracy                           0.54      6027\n",
      "   macro avg       0.67      0.50      0.36      6027\n",
      "weighted avg       0.66      0.54      0.39      6027\n",
      "\n"
     ]
    }
   ],
   "source": [
    "#Evaluating the Algorithm Precision, Recall, F1 e confusion matrix\n",
    "from sklearn.metrics import classification_report, confusion_matrix\n",
    "print(confusion_matrix(y_test,y_pred))\n",
    "print(classification_report(y_test,y_pred))"
   ]
  },
  {
   "cell_type": "markdown",
   "metadata": {
    "colab_type": "text",
    "id": "AVxtW4uZDQTw"
   },
   "source": [
    "# Classification using Neural Network"
   ]
  },
  {
   "cell_type": "code",
   "execution_count": 45,
   "metadata": {
    "colab": {
     "base_uri": "https://localhost:8080/",
     "height": 34
    },
    "colab_type": "code",
    "executionInfo": {
     "elapsed": 2390,
     "status": "ok",
     "timestamp": 1570454099332,
     "user": {
      "displayName": "Daniele Mainella",
      "photoUrl": "https://lh3.googleusercontent.com/a-/AAuE7mBTWNOc0oxkHhJk5ULS254X8ien6i4qKl7G1tMuZw=s64",
      "userId": "04877843810688149002"
     },
     "user_tz": -120
    },
    "id": "lVD0smojDVBa",
    "outputId": "6d33e80a-920b-4186-d652-33c75ecda472"
   },
   "outputs": [
    {
     "name": "stderr",
     "output_type": "stream",
     "text": [
      "Using TensorFlow backend.\n"
     ]
    }
   ],
   "source": [
    "import numpy as np\n",
    "import pandas as pd\n",
    "from keras.models import Sequential\n",
    "from keras.layers import Dense\n",
    "from keras.wrappers.scikit_learn import KerasClassifier\n",
    "from keras.utils import np_utils\n",
    "from sklearn.model_selection import cross_val_score\n",
    "from sklearn.model_selection import KFold\n",
    "from sklearn.preprocessing import LabelEncoder\n",
    "from sklearn.pipeline import Pipeline\n",
    "from sklearn import datasets"
   ]
  },
  {
   "cell_type": "code",
   "execution_count": 0,
   "metadata": {
    "colab": {},
    "colab_type": "code",
    "id": "0pgwCq1cD3r8"
   },
   "outputs": [],
   "source": [
    "# fix random seed for reproducibility\n",
    "seed = 7\n",
    "np.random.seed(seed)"
   ]
  },
  {
   "cell_type": "code",
   "execution_count": 0,
   "metadata": {
    "colab": {},
    "colab_type": "code",
    "id": "X2rKrBn2D50b"
   },
   "outputs": [],
   "source": [
    "# load dataset\n",
    "dataframe = pd.read_csv('/content/drive/My Drive/uni/AmazonReviews/data/reviews_Video_Games_5-data_frame.csv')#, header=None)\n",
    "dataset = dataframe.values\n",
    "X = dataset[:,2:].astype(float)\n",
    "Y = dataset[:,1]"
   ]
  },
  {
   "cell_type": "code",
   "execution_count": 43,
   "metadata": {
    "colab": {
     "base_uri": "https://localhost:8080/",
     "height": 136
    },
    "colab_type": "code",
    "executionInfo": {
     "elapsed": 1542,
     "status": "ok",
     "timestamp": 1570454089056,
     "user": {
      "displayName": "Daniele Mainella",
      "photoUrl": "https://lh3.googleusercontent.com/a-/AAuE7mBTWNOc0oxkHhJk5ULS254X8ien6i4qKl7G1tMuZw=s64",
      "userId": "04877843810688149002"
     },
     "user_tz": -120
    },
    "id": "buuauM-THPXF",
    "outputId": "edabeef2-f42b-45db-cb26-2116a3b33937"
   },
   "outputs": [
    {
     "data": {
      "text/plain": [
       "array([[0.   , 0.058, 0.   , ..., 0.   , 0.   , 0.   ],\n",
       "       [0.   , 0.   , 0.   , ..., 0.   , 0.   , 0.   ],\n",
       "       [0.   , 0.   , 0.   , ..., 0.   , 0.   , 0.   ],\n",
       "       ...,\n",
       "       [0.   , 0.   , 0.   , ..., 0.   , 0.   , 0.   ],\n",
       "       [0.   , 0.   , 0.   , ..., 0.   , 0.   , 0.   ],\n",
       "       [0.088, 0.   , 0.   , ..., 0.   , 0.   , 0.   ]])"
      ]
     },
     "execution_count": 43,
     "metadata": {
      "tags": []
     },
     "output_type": "execute_result"
    }
   ],
   "source": [
    "X"
   ]
  },
  {
   "cell_type": "code",
   "execution_count": 0,
   "metadata": {
    "colab": {},
    "colab_type": "code",
    "id": "Cmx2pCudGKGD"
   },
   "outputs": [],
   "source": [
    "# encode class values as integers\n",
    "encoder = LabelEncoder()\n",
    "encoder.fit(Y)\n",
    "encoded_Y = encoder.transform(Y)\n",
    "# convert integers to dummy variables (i.e. one hot encoded)\n",
    "dummy_y = np_utils.to_categorical(encoded_Y)"
   ]
  },
  {
   "cell_type": "code",
   "execution_count": 0,
   "metadata": {
    "colab": {},
    "colab_type": "code",
    "id": "pjWJG58kGjo7"
   },
   "outputs": [],
   "source": [
    "# define baseline model\n",
    "def baseline_model():\n",
    "\t# create model\n",
    "\tmodel = Sequential()\n",
    "\tmodel.add(Dense(8, input_dim=100, activation='relu'))\n",
    "\tmodel.add(Dense(2, activation='softmax'))\n",
    "\t# Compile model\n",
    "\tmodel.compile(loss='categorical_crossentropy', optimizer='adam', metrics=['accuracy'])\n",
    "\treturn model"
   ]
  },
  {
   "cell_type": "code",
   "execution_count": 0,
   "metadata": {
    "colab": {},
    "colab_type": "code",
    "id": "ZLS_pCmQGlXb"
   },
   "outputs": [],
   "source": [
    "estimator = KerasClassifier(build_fn=baseline_model, epochs=200, batch_size=5, verbose=0)"
   ]
  },
  {
   "cell_type": "code",
   "execution_count": 0,
   "metadata": {
    "colab": {},
    "colab_type": "code",
    "id": "vfPKFOC0GnQq"
   },
   "outputs": [],
   "source": [
    "kfold = KFold(n_splits=10, shuffle=True, random_state=seed)"
   ]
  },
  {
   "cell_type": "code",
   "execution_count": 0,
   "metadata": {
    "colab": {
     "base_uri": "https://localhost:8080/",
     "height": 292
    },
    "colab_type": "code",
    "id": "6UU280KgGozJ",
    "outputId": "bea7c49a-932d-4df8-a1e5-461b4fe68013"
   },
   "outputs": [
    {
     "name": "stdout",
     "output_type": "stream",
     "text": [
      "WARNING:tensorflow:From /usr/local/lib/python3.6/dist-packages/keras/backend/tensorflow_backend.py:66: The name tf.get_default_graph is deprecated. Please use tf.compat.v1.get_default_graph instead.\n",
      "\n",
      "WARNING:tensorflow:From /usr/local/lib/python3.6/dist-packages/keras/backend/tensorflow_backend.py:541: The name tf.placeholder is deprecated. Please use tf.compat.v1.placeholder instead.\n",
      "\n",
      "WARNING:tensorflow:From /usr/local/lib/python3.6/dist-packages/keras/backend/tensorflow_backend.py:4432: The name tf.random_uniform is deprecated. Please use tf.random.uniform instead.\n",
      "\n",
      "WARNING:tensorflow:From /usr/local/lib/python3.6/dist-packages/keras/optimizers.py:793: The name tf.train.Optimizer is deprecated. Please use tf.compat.v1.train.Optimizer instead.\n",
      "\n",
      "WARNING:tensorflow:From /usr/local/lib/python3.6/dist-packages/keras/backend/tensorflow_backend.py:3576: The name tf.log is deprecated. Please use tf.math.log instead.\n",
      "\n",
      "WARNING:tensorflow:From /usr/local/lib/python3.6/dist-packages/tensorflow/python/ops/math_grad.py:1250: add_dispatch_support.<locals>.wrapper (from tensorflow.python.ops.array_ops) is deprecated and will be removed in a future version.\n",
      "Instructions for updating:\n",
      "Use tf.where in 2.0, which has the same broadcast rule as np.where\n",
      "WARNING:tensorflow:From /usr/local/lib/python3.6/dist-packages/keras/backend/tensorflow_backend.py:1033: The name tf.assign_add is deprecated. Please use tf.compat.v1.assign_add instead.\n",
      "\n"
     ]
    }
   ],
   "source": [
    "results = cross_val_score(estimator, X, dummy_y, cv=kfold)\n",
    "print(\"Baseline: %.2f%% (%.2f%%)\" % (results.mean()*100, results.std()*100))"
   ]
  }
 ],
 "metadata": {
  "accelerator": "GPU",
  "colab": {
   "collapsed_sections": [
    "3UeSF0HCE4iA",
    "AVxtW4uZDQTw"
   ],
   "name": "classification.ipynb",
   "provenance": []
  },
  "kernelspec": {
   "display_name": "Python 3",
   "language": "python",
   "name": "python3"
  },
  "language_info": {
   "codemirror_mode": {
    "name": "ipython",
    "version": 3
   },
   "file_extension": ".py",
   "mimetype": "text/x-python",
   "name": "python",
   "nbconvert_exporter": "python",
   "pygments_lexer": "ipython3",
   "version": "3.7.3"
  }
 },
 "nbformat": 4,
 "nbformat_minor": 1
}

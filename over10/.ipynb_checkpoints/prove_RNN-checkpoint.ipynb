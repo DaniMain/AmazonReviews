{
 "cells": [
  {
   "cell_type": "markdown",
   "metadata": {
    "colab_type": "text",
    "id": "54gvO6cjp4qT"
   },
   "source": [
    "# Testing RNN in over10"
   ]
  },
  {
   "cell_type": "code",
   "execution_count": 115,
   "metadata": {
    "colab": {},
    "colab_type": "code",
    "id": "PQ6DY3a5osJH"
   },
   "outputs": [],
   "source": [
    "import numpy as np\n",
    "import pandas as pd\n",
    "import keras\n",
    "from keras.models import Sequential\n",
    "from keras.layers import Dense, Dropout\n",
    "import tensorflow as tf\n",
    "import time"
   ]
  },
  {
   "cell_type": "code",
   "execution_count": 286,
   "metadata": {
    "colab": {
     "base_uri": "https://localhost:8080/",
     "height": 255
    },
    "colab_type": "code",
    "executionInfo": {
     "elapsed": 851,
     "status": "ok",
     "timestamp": 1570549180491,
     "user": {
      "displayName": "Daniele Mainella",
      "photoUrl": "https://lh3.googleusercontent.com/a-/AAuE7mCEI2lP59ZBUC6oxfwh38515PiMsraEVJ9njJyDdg=s64",
      "userId": "04877843810688149002"
     },
     "user_tz": -120
    },
    "id": "c-h5ZnFlo577",
    "outputId": "d96a177b-d265-468a-cffd-d247548c8ba2"
   },
   "outputs": [
    {
     "name": "stdout",
     "output_type": "stream",
     "text": [
      "_________________________________________________________________\n",
      "Layer (type)                 Output Shape              Param #   \n",
      "=================================================================\n",
      "hidden1 (Dense)              (None, 128)               12928     \n",
      "_________________________________________________________________\n",
      "dropout_22 (Dropout)         (None, 128)               0         \n",
      "_________________________________________________________________\n",
      "output (Dense)               (None, 1)                 129       \n",
      "=================================================================\n",
      "Total params: 13,057\n",
      "Trainable params: 13,057\n",
      "Non-trainable params: 0\n",
      "_________________________________________________________________\n"
     ]
    }
   ],
   "source": [
    "model = Sequential() # istanza di Sequential \n",
    "model.add(Dense(128, input_dim=100, activation='relu',name=\"hidden1\")) #strato di input + hidden\n",
    "model.add(Dropout(0.5))\n",
    "#model.add(Dense(1, activation='sigmoid',name=\"sigmoid\"))\n",
    "model.add(Dense(1, activation='softmax',name=\"output\")) #strato di output\n",
    "model.summary()"
   ]
  },
  {
   "cell_type": "code",
   "execution_count": 287,
   "metadata": {
    "colab": {},
    "colab_type": "code",
    "id": "0nroJLMr3ugE"
   },
   "outputs": [],
   "source": [
    "optimizer = keras.optimizers.SGD(lr=0.01, decay=0.1, momentum=0.975, nesterov=False)\n",
    "\n",
    "model.compile(loss='mean_squared_error', optimizer=optimizer, metrics=['accuracy'])"
   ]
  },
  {
   "cell_type": "code",
   "execution_count": 144,
   "metadata": {
    "colab": {},
    "colab_type": "code",
    "id": "TLCaVWhRo9xE"
   },
   "outputs": [],
   "source": [
    "model.compile(loss='binary_crossentropy', optimizer='rmsprop', metrics=['accuracy'])"
   ]
  },
  {
   "cell_type": "code",
   "execution_count": 0,
   "metadata": {
    "colab": {},
    "colab_type": "code",
    "id": "3MNtakPMpZT7"
   },
   "outputs": [],
   "source": [
    "#dati input di apprendimento composto da mille vettori di 20 float random\n",
    "x_train = np.random.random((1000, 20))  #dati di out di apprendimento (train) composto da mille scalari random da 0 a 1 \n",
    "y_train = np.random.randint(2, size=(1000, 1))   #dati input di validazione composto da 100 vettori di 20 float random \n",
    "x_test = np.random.random((100, 20))    #dati di out di validazione (test) composto da mille scalari random da 0 a 1 \n",
    "y_test = np.random.randint(2, size=(100, 1))"
   ]
  },
  {
   "cell_type": "code",
   "execution_count": 241,
   "metadata": {
    "colab": {},
    "colab_type": "code",
    "id": "TLwV8gQctWmy"
   },
   "outputs": [],
   "source": [
    "from sklearn.model_selection import train_test_split\n",
    "\n",
    "bankdata = pd.read_csv(\"../data/reviews_Video_Games_5-over10-data_frame.csv\")\n",
    "\n",
    "# x = bankdata.drop('utility', axis=1).drop('text', axis=1)\n",
    "# y = bankdata['utility']\n",
    "\n",
    "dataset = bankdata.values\n",
    "X = dataset[:,2:].astype(float)\n",
    "Y = dataset[:,1]\n",
    "\n",
    "# x_train, x_test, y_train, y_test = train_test_split(x, y, test_size = 0.20)\n",
    "\n",
    "x_train, x_test, y_train, y_test = train_test_split(X, Y, test_size = 0.2)"
   ]
  },
  {
   "cell_type": "code",
   "execution_count": 269,
   "metadata": {},
   "outputs": [],
   "source": [
    "bankdata = pd.read_csv(\"../data/reviews_Video_Games_5-over10-data_frame.csv\")\n",
    "\n",
    "bankdata = bankdata.drop('text',axis=1)\n",
    "np_bankdata = np.asarray(bankdata,dtype=np.float32)\n",
    "\n",
    "for i in range(2,101):\n",
    "    minx = np.min( np_bankdata[:,i] )\n",
    "    maxx = np.max( np_bankdata[:,i])\n",
    "    np_bankdata[:,i] = (np_bankdata[:,i]-minx)/(maxx-minx)\n",
    "\n",
    "train, test = train_test_split(np_bankdata)\n",
    "\n",
    "x_train = train[0:,1:]\n",
    "y_train = train[0:,:1]\n",
    "\n",
    "x_test = test[0:,1:]\n",
    "y_test = test[0:,:1]"
   ]
  },
  {
   "cell_type": "code",
   "execution_count": 288,
   "metadata": {
    "colab": {
     "base_uri": "https://localhost:8080/",
     "height": 34
    },
    "colab_type": "code",
    "executionInfo": {
     "elapsed": 40883,
     "status": "ok",
     "timestamp": 1570549755112,
     "user": {
      "displayName": "Daniele Mainella",
      "photoUrl": "https://lh3.googleusercontent.com/a-/AAuE7mCEI2lP59ZBUC6oxfwh38515PiMsraEVJ9njJyDdg=s64",
      "userId": "04877843810688149002"
     },
     "user_tz": -120
    },
    "id": "bOqRKXBmpnbg",
    "outputId": "73a93d42-e619-4701-ae65-07495661c5b6"
   },
   "outputs": [
    {
     "name": "stdout",
     "output_type": "stream",
     "text": [
      "Elapsed time (learning): 00:00:52\n"
     ]
    }
   ],
   "source": [
    "start_time=time.time()\n",
    "\n",
    "history = model.fit(x_train, y_train, validation_data=(x_test,y_test), epochs=200, batch_size=512, verbose=0)#, validation_split=0.2)\n",
    "\n",
    "elapsed_time = time.time() - start_time\n",
    "t = time.strftime(\"%H:%M:%S\", time.gmtime(elapsed_time))\n",
    "print('Elapsed time (learning):', t)"
   ]
  },
  {
   "cell_type": "code",
   "execution_count": 289,
   "metadata": {
    "colab": {
     "base_uri": "https://localhost:8080/",
     "height": 51
    },
    "colab_type": "code",
    "executionInfo": {
     "elapsed": 792,
     "status": "ok",
     "timestamp": 1570549631379,
     "user": {
      "displayName": "Daniele Mainella",
      "photoUrl": "https://lh3.googleusercontent.com/a-/AAuE7mCEI2lP59ZBUC6oxfwh38515PiMsraEVJ9njJyDdg=s64",
      "userId": "04877843810688149002"
     },
     "user_tz": -120
    },
    "id": "OTetLPeFDA5w",
    "outputId": "55171b46-0827-452c-a642-aac457b35740"
   },
   "outputs": [
    {
     "name": "stdout",
     "output_type": "stream",
     "text": [
      "Test loss: 0.4602416037690287\n",
      "Test accuracy: 0.5397583964090019\n"
     ]
    }
   ],
   "source": [
    "score = model.evaluate(x_test, y_test, batch_size=64, verbose=0)\n",
    "\n",
    "print('Test loss:', score[0])\n",
    "print('Test accuracy:', score[1])"
   ]
  },
  {
   "cell_type": "code",
   "execution_count": 290,
   "metadata": {
    "colab": {
     "base_uri": "https://localhost:8080/",
     "height": 68
    },
    "colab_type": "code",
    "executionInfo": {
     "elapsed": 700,
     "status": "ok",
     "timestamp": 1570549634029,
     "user": {
      "displayName": "Daniele Mainella",
      "photoUrl": "https://lh3.googleusercontent.com/a-/AAuE7mCEI2lP59ZBUC6oxfwh38515PiMsraEVJ9njJyDdg=s64",
      "userId": "04877843810688149002"
     },
     "user_tz": -120
    },
    "id": "okHJBvVX-uKU",
    "outputId": "45f59d44-2adb-4de7-a519-31fc5a4501aa"
   },
   "outputs": [
    {
     "name": "stdout",
     "output_type": "stream",
     "text": [
      "Corrected points: 4066 over 7533\n",
      "Uncorrected points: 3467 over 7533\n",
      "Accuracy 0.5397583963892207\n"
     ]
    }
   ],
   "source": [
    "y_pred = model.predict(x_test)\n",
    "\n",
    "# from sklearn.metrics import classification_report, confusion_matrix\n",
    "# print(confusion_matrix(y_test,y_pred))\n",
    "# print(classification_report(y_test,y_pred))\n",
    "\n",
    "correct=0\n",
    "for i in range(0,len(y_pred)):\n",
    "    if y_pred[i]==y_test[i]:\n",
    "        correct+=1\n",
    "    \n",
    "print(\"Corrected points:\",correct,\"over\",len(y_pred))\n",
    "print(\"Uncorrected points:\",len(y_pred)-correct,\"over\",len(y_pred))\n",
    "print(\"Accuracy\",correct/len(y_pred))"
   ]
  },
  {
   "cell_type": "code",
   "execution_count": 291,
   "metadata": {
    "colab": {
     "base_uri": "https://localhost:8080/",
     "height": 545
    },
    "colab_type": "code",
    "executionInfo": {
     "elapsed": 38391,
     "status": "ok",
     "timestamp": 1570549755859,
     "user": {
      "displayName": "Daniele Mainella",
      "photoUrl": "https://lh3.googleusercontent.com/a-/AAuE7mCEI2lP59ZBUC6oxfwh38515PiMsraEVJ9njJyDdg=s64",
      "userId": "04877843810688149002"
     },
     "user_tz": -120
    },
    "id": "dBh_uzVBCg-L",
    "outputId": "a8655db4-babb-4164-ea6a-cfc07ce1cc2d"
   },
   "outputs": [
    {
     "data": {
      "image/png": "[encoded data removed]",
      "text/plain": [
       "<Figure size 432x288 with 1 Axes>"
      ]
     },
     "metadata": {
      "needs_background": "light"
     },
     "output_type": "display_data"
    },
    {
     "data": {
      "image/png": "[encoded data removed]",
      "text/plain": [
       "<Figure size 432x288 with 1 Axes>"
      ]
     },
     "metadata": {
      "needs_background": "light"
     },
     "output_type": "display_data"
    }
   ],
   "source": [
    "import matplotlib.pyplot as plt\n",
    "%matplotlib inline\n",
    "\n",
    "accuracy = history.history['acc']\n",
    "val_accuracy = history.history['val_acc']\n",
    "loss = history.history['loss']\n",
    "val_loss = history.history['val_loss']\n",
    "epochs = range(len(accuracy))\n",
    "\n",
    "plt.plot(epochs, accuracy, 'bo', label='Training accuracy')\n",
    "plt.plot(epochs, val_accuracy, 'b', label='Validation accuracy')\n",
    "plt.title('Training and validation accuracy')\n",
    "plt.legend()\n",
    "plt.figure()\n",
    "\n",
    "plt.plot(epochs, loss, 'bo', label='Training loss')\n",
    "plt.plot(epochs, val_loss, 'b', label='Validation loss')\n",
    "plt.title('Training and validation loss')\n",
    "plt.legend()\n",
    "plt.show()"
   ]
  },
  {
   "cell_type": "code",
   "execution_count": 292,
   "metadata": {},
   "outputs": [
    {
     "name": "stdout",
     "output_type": "stream",
     "text": [
      "7533\n",
      "0\n"
     ]
    }
   ],
   "source": [
    "f=0\n",
    "for i in y_pred:\n",
    "    if i==0:\n",
    "        f+=1\n",
    "print(len(pred))\n",
    "print(f)"
   ]
  },
  {
   "cell_type": "code",
   "execution_count": 0,
   "metadata": {
    "colab": {},
    "colab_type": "code",
    "id": "Qkh05r5JEInL"
   },
   "outputs": [],
   "source": [
    "model.save('../data/lstm_model.h5')"
   ]
  },
  {
   "cell_type": "code",
   "execution_count": 6,
   "metadata": {
    "colab": {
     "base_uri": "https://localhost:8080/",
     "height": 136
    },
    "colab_type": "code",
    "executionInfo": {
     "elapsed": 4164,
     "status": "ok",
     "timestamp": 1570550015908,
     "user": {
      "displayName": "Daniele Mainella",
      "photoUrl": "https://lh3.googleusercontent.com/a-/AAuE7mCEI2lP59ZBUC6oxfwh38515PiMsraEVJ9njJyDdg=s64",
      "userId": "04877843810688149002"
     },
     "user_tz": -120
    },
    "id": "99OiYIw5EUWW",
    "outputId": "664f2319-3a3d-4b1b-c5c8-fa3cbee56955"
   },
   "outputs": [
    {
     "name": "stdout",
     "output_type": "stream",
     "text": [
      "[[1.]\n",
      " [1.]\n",
      " [1.]\n",
      " ...\n",
      " [1.]\n",
      " [1.]\n",
      " [1.]]\n"
     ]
    }
   ],
   "source": [
    "from keras.models import load_model\n",
    "\n",
    "model = load_model('../data/lstm_model.h5')\n",
    "# make predictions\n",
    "yhat = model.predict(x_test, verbose=0)\n",
    "print(yhat)"
   ]
  },
  {
   "cell_type": "code",
   "execution_count": 7,
   "metadata": {
    "colab": {
     "base_uri": "https://localhost:8080/",
     "height": 34
    },
    "colab_type": "code",
    "executionInfo": {
     "elapsed": 588,
     "status": "ok",
     "timestamp": 1570550016859,
     "user": {
      "displayName": "Daniele Mainella",
      "photoUrl": "https://lh3.googleusercontent.com/a-/AAuE7mCEI2lP59ZBUC6oxfwh38515PiMsraEVJ9njJyDdg=s64",
      "userId": "04877843810688149002"
     },
     "user_tz": -120
    },
    "id": "CCJ-J2iyExuz",
    "outputId": "3c308444-0132-499c-8133-aba3f1e84580"
   },
   "outputs": [
    {
     "data": {
      "text/plain": [
       "6027"
      ]
     },
     "execution_count": 7,
     "metadata": {},
     "output_type": "execute_result"
    }
   ],
   "source": [
    "len(yhat)"
   ]
  },
  {
   "cell_type": "code",
   "execution_count": 12,
   "metadata": {},
   "outputs": [
    {
     "name": "stderr",
     "output_type": "stream",
     "text": [
      "C:\\Users\\User\\Anaconda3\\lib\\site-packages\\sklearn\\feature_extraction\\text.py:301: UserWarning: Your stop_words may be inconsistent with your preprocessing. Tokenizing the stop words generated tokens ['come', 'vis', 'viser', 'visest'] not in stop_words.\n",
      "  'stop_words.' % sorted(inconsistent))\n"
     ]
    },
    {
     "data": {
      "text/plain": [
       "TfidfTransformer(norm='l2', smooth_idf=True, sublinear_tf=False, use_idf=True)"
      ]
     },
     "execution_count": 12,
     "metadata": {},
     "output_type": "execute_result"
    }
   ],
   "source": [
    "from sklearn.feature_extraction.text import TfidfTransformer, CountVectorizer\n",
    "import re\n",
    "import pandas as pd\n",
    "\n",
    "def get_stop_words(stop_file_path):\n",
    "  \"\"\"load stop words \"\"\"    \n",
    "  with open(stop_file_path, 'r', encoding=\"utf-8\") as f:\n",
    "    stopwords = f.readlines()\n",
    "    stop_set = set(m.strip() for m in stopwords)\n",
    "  return frozenset(stop_set)\n",
    "\n",
    "def compute_tfidf(doc,cv,tfidf_transformer,attributes):\n",
    "  #generate tf-idf for the given document\n",
    "  tf_idf_vector=tfidf_transformer.transform(cv.transform([doc])) \n",
    "  #sort the tf-idf vectors by descending order of scores\n",
    "  sorted_items=sort_coo(tf_idf_vector.tocoo())\n",
    "  #extract all items from document\n",
    "  keywords=extract_topn_from_vector(feature_names,sorted_items,len(doc))\n",
    "  dict_doc={}\n",
    "  for e in attributes:\n",
    "    if e in keywords:\n",
    "      dict_doc[e]=keywords[e]\n",
    "    else:\n",
    "      dict_doc[e]=0\n",
    "  return dict_doc\n",
    "\n",
    "def sort_coo(coo_matrix):\n",
    "  tuples = zip(coo_matrix.col, coo_matrix.data)\n",
    "  return sorted(tuples, key=lambda x: (x[1], x[0]), reverse=True)\n",
    " \n",
    "def extract_topn_from_vector(feature_names, sorted_items, topn=10):\n",
    "  \"\"\"get the feature names and tf-idf score of top n items\"\"\"\n",
    "  #use only topn items from vector\n",
    "  sorted_items = sorted_items[:topn] \n",
    "  score_vals = []\n",
    "  feature_vals = []\n",
    "  # word index and corresponding tf-idf score\n",
    "  for idx, score in sorted_items:\n",
    "    #keep track of feature name and its corresponding score\n",
    "    score_vals.append(round(score, 3))\n",
    "    feature_vals.append(feature_names[idx])\n",
    "  #create a tuples of feature,score\n",
    "  #results = zip(feature_vals,score_vals)\n",
    "  results= {}\n",
    "  for idx in range(len(feature_vals)):\n",
    "    results[feature_vals[idx]]=score_vals[idx]    \n",
    "  return results\n",
    "\n",
    "df=pd.read_csv('../data/reviews_Video_Games_5-over10.csv')\n",
    "\n",
    "#load a set of stop words\n",
    "stopwords=get_stop_words('../data/stopwords.txt')\n",
    "\n",
    "#get the text column \n",
    "docs=df['text'].tolist()\n",
    "\n",
    "#create a vocabulary of words, \n",
    "#ignore words that appear in 99,999999% of documents, \n",
    "#eliminate stop words\n",
    "cv=CountVectorizer(stop_words=stopwords)\n",
    "word_count_vector=cv.fit_transform(docs)\n",
    "\n",
    "tfidf_transformer=TfidfTransformer(smooth_idf=True,use_idf=True)\n",
    "tfidf_transformer.fit(word_count_vector)"
   ]
  },
  {
   "cell_type": "code",
   "execution_count": 13,
   "metadata": {},
   "outputs": [
    {
     "name": "stderr",
     "output_type": "stream",
     "text": [
      "[nltk_data] Downloading package punkt to\n",
      "[nltk_data]     C:\\Users\\User\\AppData\\Roaming\\nltk_data...\n",
      "[nltk_data]   Package punkt is already up-to-date!\n",
      "[nltk_data] Downloading package stopwords to\n",
      "[nltk_data]     C:\\Users\\User\\AppData\\Roaming\\nltk_data...\n",
      "[nltk_data]   Package stopwords is already up-to-date!\n"
     ]
    }
   ],
   "source": [
    "import nltk\n",
    "from nltk.stem.porter import PorterStemmer\n",
    "from nltk.corpus import stopwords\n",
    "nltk.download('punkt')\n",
    "nltk.download('stopwords')\n",
    "porter_stemmer = PorterStemmer()\n",
    "en_stops = set(stopwords.words('english'))\n",
    "\n",
    "#binary search to improve efficency\n",
    "def binary_search(e,l,inizio,fine):\n",
    "  if inizio>fine or e<l[inizio] or e>l[fine-1]:\n",
    "    return False\n",
    "  else:\n",
    "    mezzo=int((inizio+fine)/2)\n",
    "    m=l[mezzo]\n",
    "    if e==m:\n",
    "      return True\n",
    "    elif e>m:\n",
    "      return binary_search(e,l,mezzo,fine)\n",
    "    else:\n",
    "      return binary_search(e,l,inizio,mezzo)\n",
    "\n",
    "#removing symbols and adding space after them\n",
    "def prepreprocess(frase):\n",
    "  s=''\n",
    "  syms=['a','b','c','d','e','f','g','h','i','j','k','l','m','n','o','p','q','r','s','t','u','v','w','x','y','z','è','é','à','ò','ì','ù']\n",
    "  for char in frase:\n",
    "    if char not in syms:\n",
    "      s+=' '\n",
    "    else:\n",
    "      s+=char\n",
    "  return s\n",
    "\n",
    "#preprocess using prepreprocess fase and stemming and removing stopwords\n",
    "def preprocess(frase,en_words):\n",
    "  l=[]\n",
    "  for word in prepreprocess(frase.lower()).split(' '):\n",
    "    w=word.lower()\n",
    "    if w not in en_stops and len(w)>2 and binary_search(w,en_words,0,len(en_words)):\n",
    "        l.append(porter_stemmer.stem(w))\n",
    "  return repr(' '.join(l))"
   ]
  },
  {
   "cell_type": "code",
   "execution_count": 105,
   "metadata": {},
   "outputs": [],
   "source": [
    "from sklearn.feature_extraction.text import TfidfVectorizer\n",
    "\n",
    "DF=pd.read_csv('../data/reviews_Video_Games_5-over10-data_frame.csv')\n",
    "\n",
    "# summary='Great game of all the time!!!'\n",
    "# reviewText=\"I've never played this game first, but since the initial install I've fallen in love <3 !!! It's amazing because shooting mode is very easy and level of entertainment is fantastic! I'll play for hour and hour so long!!! Very recommended!!!!\"\n",
    "\n",
    "summary='hahah'\n",
    "reviewText=\"I like obama because he loves me so much and other people wanna play this game\"\n",
    "\n",
    "en_words=sorted(open('../data/en_words.txt', 'r').read().lower().split('\\n'))\n",
    "doc=preprocess(str(summary+' '+reviewText),en_words)\n",
    "\n",
    "feature_names=cv.get_feature_names()\n",
    "\n",
    "dict_doc=compute_tfidf(doc,cv,tfidf_transformer,list(DF.columns[2:]))\n",
    "\n",
    "data_doc=[]\n",
    "for v in dict_doc.values():\n",
    "  data_doc.append(float(v))"
   ]
  },
  {
   "cell_type": "code",
   "execution_count": 106,
   "metadata": {},
   "outputs": [],
   "source": [
    "dc=[]\n",
    "dc.append(data_doc)\n",
    "dc.append(data_doc)"
   ]
  },
  {
   "cell_type": "code",
   "execution_count": 107,
   "metadata": {},
   "outputs": [
    {
     "data": {
      "text/plain": [
       "array([[1.]], dtype=float32)"
      ]
     },
     "execution_count": 107,
     "metadata": {},
     "output_type": "execute_result"
    }
   ],
   "source": [
    "s = \"hi everyone, I'm so happy!\"\n",
    "model.predict(np.array(dc[0:1]), verbose=0)"
   ]
  },
  {
   "cell_type": "code",
   "execution_count": 277,
   "metadata": {},
   "outputs": [
    {
     "name": "stdout",
     "output_type": "stream",
     "text": [
      "7533\n",
      "0\n"
     ]
    }
   ],
   "source": [
    "pred=model.predict(x_test,verbose=0)\n",
    "f=0\n",
    "for i in pred:\n",
    "    if i==0:\n",
    "        f+=1\n",
    "print(len(pred))\n",
    "print(f)"
   ]
  },
  {
   "cell_type": "markdown",
   "metadata": {
    "colab_type": "text",
    "id": "pqT_AoLAp1Pk"
   },
   "source": [
    "# Test"
   ]
  },
  {
   "cell_type": "code",
   "execution_count": 0,
   "metadata": {
    "colab": {},
    "colab_type": "code",
    "id": "JdwUcZaYpvIg"
   },
   "outputs": [],
   "source": [
    "import numpy as np \n",
    "import pandas as pd\n",
    "from keras.models import Sequential \n",
    "from keras.layers import Dense,Dropout\n",
    "from sklearn.model_selection import train_test_split\n",
    "from keras.utils import to_categorical"
   ]
  },
  {
   "cell_type": "code",
   "execution_count": 185,
   "metadata": {
    "colab": {
     "base_uri": "https://localhost:8080/",
     "height": 255
    },
    "colab_type": "code",
    "executionInfo": {
     "elapsed": 961,
     "status": "ok",
     "timestamp": 1570547646485,
     "user": {
      "displayName": "Daniele Mainella",
      "photoUrl": "https://lh3.googleusercontent.com/a-/AAuE7mCEI2lP59ZBUC6oxfwh38515PiMsraEVJ9njJyDdg=s64",
      "userId": "04877843810688149002"
     },
     "user_tz": -120
    },
    "id": "6IBhwy9Fp96u",
    "outputId": "d3938474-bf2a-457c-abea-a2c6e5fc71df"
   },
   "outputs": [
    {
     "name": "stdout",
     "output_type": "stream",
     "text": [
      "Model: \"sequential_28\"\n",
      "_________________________________________________________________\n",
      "Layer (type)                 Output Shape              Param #   \n",
      "=================================================================\n",
      "hidde1 (Dense)               (None, 10)                140       \n",
      "_________________________________________________________________\n",
      "dropout_5 (Dropout)          (None, 10)                0         \n",
      "_________________________________________________________________\n",
      "outLayer (Dense)             (None, 1)                 11        \n",
      "=================================================================\n",
      "Total params: 151\n",
      "Trainable params: 151\n",
      "Non-trainable params: 0\n",
      "_________________________________________________________________\n"
     ]
    }
   ],
   "source": [
    "model = Sequential() # istanza di Sequential \n",
    "model.add(Dense(10, input_dim=13, activation='relu',name='hidde1')) #strato di input + hidden \n",
    "model.add(Dropout(0.5) )\n",
    "model.add(Dense(1, activation='tanh',name='outLayer')) #strato di output\n",
    "model.compile(loss='mean_squared_error', optimizer='rmsprop', metrics=['accuracy'])\n",
    "model.summary()"
   ]
  },
  {
   "cell_type": "code",
   "execution_count": 0,
   "metadata": {
    "colab": {},
    "colab_type": "code",
    "id": "vEu_6db8qAfN"
   },
   "outputs": [],
   "source": [
    "wine_data = pd.read_csv('https://archive.ics.uci.edu/ml/machine-learning-databases/wine/wine.data',header=None)\n",
    "\n",
    "\n",
    "np_wine_data = np.asarray(wine_data,dtype=np.float32)\n",
    "\n",
    "for i in range(1,14):\n",
    "  minx = np.min( np_wine_data[:,i] )\n",
    "  maxx = np.max( np_wine_data[:,i])\n",
    "  np_wine_data[:,i] = (np_wine_data[:,i]-minx)/(maxx-minx )\n",
    "  \n",
    "\n",
    "\n",
    "\n",
    "train, train_val = train_test_split(np_wine_data)\n",
    "\n",
    "\n",
    "\n",
    "x_train = train[0:,1:]\n",
    "y_train = train[0:,:1]-2\n",
    "\n",
    "x_test = train_val[0:,1:]\n",
    "y_test = train_val[0:,:1]-2 \n",
    "\n",
    "#print(  np_wine_data[:,1]   )"
   ]
  },
  {
   "cell_type": "code",
   "execution_count": 188,
   "metadata": {
    "colab": {
     "base_uri": "https://localhost:8080/",
     "height": 34
    },
    "colab_type": "code",
    "executionInfo": {
     "elapsed": 7529,
     "status": "ok",
     "timestamp": 1570547697212,
     "user": {
      "displayName": "Daniele Mainella",
      "photoUrl": "https://lh3.googleusercontent.com/a-/AAuE7mCEI2lP59ZBUC6oxfwh38515PiMsraEVJ9njJyDdg=s64",
      "userId": "04877843810688149002"
     },
     "user_tz": -120
    },
    "id": "kBPCEyymqTGN",
    "outputId": "849767b2-d512-4acd-e86b-dfa9e2afcea9"
   },
   "outputs": [
    {
     "data": {
      "text/plain": [
       "<keras.callbacks.History at 0x7f7b586906d8>"
      ]
     },
     "execution_count": 188,
     "metadata": {
      "tags": []
     },
     "output_type": "execute_result"
    }
   ],
   "source": [
    "model.fit(x_train, y_train, validation_data=(x_test,y_test),epochs=500, batch_size=64,verbose=0)"
   ]
  },
  {
   "cell_type": "code",
   "execution_count": 189,
   "metadata": {
    "colab": {
     "base_uri": "https://localhost:8080/",
     "height": 731
    },
    "colab_type": "code",
    "executionInfo": {
     "elapsed": 7680,
     "status": "ok",
     "timestamp": 1570547697664,
     "user": {
      "displayName": "Daniele Mainella",
      "photoUrl": "https://lh3.googleusercontent.com/a-/AAuE7mCEI2lP59ZBUC6oxfwh38515PiMsraEVJ9njJyDdg=s64",
      "userId": "04877843810688149002"
     },
     "user_tz": -120
    },
    "id": "c49qjR_s70Sc",
    "outputId": "9d1bd0b1-c2d9-4097-9192-83ab38bfa20a"
   },
   "outputs": [
    {
     "name": "stdout",
     "output_type": "stream",
     "text": [
      "Train on 133 samples, validate on 45 samples\n",
      "Epoch 1/20\n",
      "133/133 [==============================] - 0s 152us/step - loss: 0.1462 - acc: 0.9098 - val_loss: 0.0510 - val_acc: 0.9556\n",
      "Epoch 2/20\n",
      "133/133 [==============================] - 0s 154us/step - loss: 0.1016 - acc: 0.8947 - val_loss: 0.0514 - val_acc: 0.9556\n",
      "Epoch 3/20\n",
      "133/133 [==============================] - 0s 143us/step - loss: 0.1432 - acc: 0.8872 - val_loss: 0.0508 - val_acc: 0.9556\n",
      "Epoch 4/20\n",
      "133/133 [==============================] - 0s 127us/step - loss: 0.1322 - acc: 0.9098 - val_loss: 0.0510 - val_acc: 0.9556\n",
      "Epoch 5/20\n",
      "133/133 [==============================] - 0s 149us/step - loss: 0.1321 - acc: 0.8872 - val_loss: 0.0515 - val_acc: 0.9556\n",
      "Epoch 6/20\n",
      "133/133 [==============================] - 0s 141us/step - loss: 0.1123 - acc: 0.9173 - val_loss: 0.0511 - val_acc: 0.9556\n",
      "Epoch 7/20\n",
      "133/133 [==============================] - 0s 133us/step - loss: 0.1101 - acc: 0.9023 - val_loss: 0.0525 - val_acc: 0.9556\n",
      "Epoch 8/20\n",
      "133/133 [==============================] - 0s 152us/step - loss: 0.1310 - acc: 0.8496 - val_loss: 0.0506 - val_acc: 0.9556\n",
      "Epoch 9/20\n",
      "133/133 [==============================] - 0s 141us/step - loss: 0.1113 - acc: 0.9248 - val_loss: 0.0511 - val_acc: 0.9556\n",
      "Epoch 10/20\n",
      "133/133 [==============================] - 0s 172us/step - loss: 0.0875 - acc: 0.9323 - val_loss: 0.0484 - val_acc: 0.9556\n",
      "Epoch 11/20\n",
      "133/133 [==============================] - 0s 168us/step - loss: 0.1218 - acc: 0.9098 - val_loss: 0.0459 - val_acc: 0.9556\n",
      "Epoch 12/20\n",
      "133/133 [==============================] - 0s 206us/step - loss: 0.1257 - acc: 0.9098 - val_loss: 0.0477 - val_acc: 0.9556\n",
      "Epoch 13/20\n",
      "133/133 [==============================] - 0s 174us/step - loss: 0.1493 - acc: 0.8947 - val_loss: 0.0488 - val_acc: 0.9556\n",
      "Epoch 14/20\n",
      "133/133 [==============================] - 0s 159us/step - loss: 0.1318 - acc: 0.8722 - val_loss: 0.0510 - val_acc: 0.9556\n",
      "Epoch 15/20\n",
      "133/133 [==============================] - 0s 160us/step - loss: 0.1113 - acc: 0.9248 - val_loss: 0.0498 - val_acc: 0.9556\n",
      "Epoch 16/20\n",
      "133/133 [==============================] - 0s 155us/step - loss: 0.1135 - acc: 0.9023 - val_loss: 0.0491 - val_acc: 0.9556\n",
      "Epoch 17/20\n",
      "133/133 [==============================] - 0s 158us/step - loss: 0.1035 - acc: 0.9474 - val_loss: 0.0502 - val_acc: 0.9556\n",
      "Epoch 18/20\n",
      "133/133 [==============================] - 0s 195us/step - loss: 0.1020 - acc: 0.8797 - val_loss: 0.0511 - val_acc: 0.9556\n",
      "Epoch 19/20\n",
      "133/133 [==============================] - 0s 195us/step - loss: 0.1037 - acc: 0.8797 - val_loss: 0.0504 - val_acc: 0.9556\n",
      "Epoch 20/20\n",
      "133/133 [==============================] - 0s 159us/step - loss: 0.0890 - acc: 0.9474 - val_loss: 0.0496 - val_acc: 0.9556\n"
     ]
    },
    {
     "data": {
      "text/plain": [
       "<keras.callbacks.History at 0x7f7b5852f9e8>"
      ]
     },
     "execution_count": 189,
     "metadata": {
      "tags": []
     },
     "output_type": "execute_result"
    }
   ],
   "source": [
    "model.fit(x_train, y_train, validation_data=(x_test,y_test),epochs=20, batch_size=64,verbose=1)"
   ]
  }
 ],
 "metadata": {
  "accelerator": "GPU",
  "colab": {
   "collapsed_sections": [
    "pqT_AoLAp1Pk"
   ],
   "name": "prove_RNN.ipynb",
   "provenance": []
  },
  "kernelspec": {
   "display_name": "Python 3",
   "language": "python",
   "name": "python3"
  },
  "language_info": {
   "codemirror_mode": {
    "name": "ipython",
    "version": 3
   },
   "file_extension": ".py",
   "mimetype": "text/x-python",
   "name": "python",
   "nbconvert_exporter": "python",
   "pygments_lexer": "ipython3",
   "version": "3.7.3"
  }
 },
 "nbformat": 4,
 "nbformat_minor": 1
}

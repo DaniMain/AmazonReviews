{
 "cells": [
  {
   "cell_type": "code",
   "execution_count": 3,
   "metadata": {},
   "outputs": [],
   "source": [
    "import csv\n",
    "import pandas as pd\n",
    "\n",
    "input_path = \"C:/Users/User/Documents/Uni/Magistrale/tesi/AmazonReviews/data/\"\n",
    "name = \"reviews_Video_Games_5\"\n",
    "over = 10\n",
    "file = name + '/' + name + '.csv'\n",
    "\n",
    "da_prendere = []\n",
    "\n",
    "reader = csv.reader(open(input_path+file,'rt', encoding='utf8'))\n",
    "\n",
    "next(reader)\n",
    "for row in reader:\n",
    "    tot = int(eval(row[3])[1])\n",
    "    if tot >= over:\n",
    "        da_prendere.append(True)\n",
    "    else:\n",
    "        da_prendere.append(False)\n",
    "        \n",
    "        \n",
    "file2 = name + '/' + name + '-nf15-data_frame-V2.csv'\n",
    "\n",
    "reader2 = csv.reader(open(input_path+file2, 'rt', encoding='utf8'))\n",
    "\n",
    "tags = next(reader2)\n",
    "\n",
    "new_df = []\n",
    "i = 0\n",
    "for row in reader2:\n",
    "    if da_prendere[i]:\n",
    "        new_df.append(row)\n",
    "    i += 1\n",
    "        \n",
    "pd.DataFrame(new_df, columns=tags).to_csv(name+'/'+name+'-over'+str(over)+'-nf15-data_frame-V2.csv', index=False)"
   ]
  }
 ],
 "metadata": {
  "kernelspec": {
   "display_name": "Python 3",
   "language": "python",
   "name": "python3"
  },
  "language_info": {
   "codemirror_mode": {
    "name": "ipython",
    "version": 3
   },
   "file_extension": ".py",
   "mimetype": "text/x-python",
   "name": "python",
   "nbconvert_exporter": "python",
   "pygments_lexer": "ipython3",
   "version": "3.7.3"
  }
 },
 "nbformat": 4,
 "nbformat_minor": 2
}
